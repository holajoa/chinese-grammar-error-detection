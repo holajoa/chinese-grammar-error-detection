{
 "cells": [
  {
   "cell_type": "code",
   "execution_count": 1,
   "metadata": {},
   "outputs": [],
   "source": [
    "import sys\n",
    "sys.path.append('..')\n",
    "\n",
    "import torch\n",
    "import numpy as np\n",
    "\n",
    "from utils import ntf\n",
    "from pipeline import PipelineGED\n",
    "\n",
    "from transformers import logging\n",
    "logging.set_verbosity_error()"
   ]
  },
  {
   "cell_type": "code",
   "execution_count": 2,
   "metadata": {},
   "outputs": [],
   "source": [
    "checkpoints = [\n",
    "    '../finetuned_models/ner_run_aug_74866/fold0/checkpoint-12195/pytorch_model.bin', \n",
    "    # '../finetuned_models/ner_run_aug_74866/fold1/checkpoint-12195/pytorch_model.bin', \n",
    "    # '../finetuned_models/ner_run_aug_74866/fold2/checkpoint-12195/pytorch_model.bin', \n",
    "    # '../finetuned_models/ner_run_aug_74866/fold3/checkpoint-8130/pytorch_model.bin', \n",
    "    # '../finetuned_models/ner_run_aug_74866/fold4/checkpoint-4065/pytorch_model.bin', \n",
    "    # '../finetuned_models/ner_run_aug_74866/fold5/checkpoint-8130/pytorch_model.bin', \n",
    "    # '../finetuned_models/ner_run_aug_74866/fold6/checkpoint-12195/pytorch_model.bin', \n",
    "    # '../finetuned_models/ner_run_aug_74866/fold7/checkpoint-8130/pytorch_model.bin', \n",
    "    # '../finetuned_models/ner_run_aug_74866/fold8/checkpoint-8130/pytorch_model.bin', \n",
    "    # '../finetuned_models/ner_run_aug_74866/fold9/checkpoint-12195/pytorch_model.bin'\n",
    "]\n",
    "model_name = 'hfl/chinese-macbert-base'\n",
    "\n",
    "\n",
    "device = torch.device(\"cpu\")\n",
    "# device = torch.device(\"cuda:0\")\n",
    "\n",
    "data_configs = {\n",
    "    'model_name':model_name,\n",
    "    'maxlength':128,\n",
    "    'train_val_split':-1,\n",
    "    'test':True, \n",
    "    'remove_username':False,\n",
    "    'remove_punctuation':False, \n",
    "    'to_simplified':False, \n",
    "    'emoji_to_text':False, \n",
    "    'split_words':False, \n",
    "    'cut_all':False, \n",
    "}\n",
    "clf = PipelineGED(model_name=model_name, data_configs=data_configs)\n",
    "\n",
    "def apply_ged_pipeline(texts):\n",
    "    probs, seq_probs = clf(texts=texts, checkpoints=checkpoints, device=device, output_probabilities=True)\n",
    "    print(probs)"
   ]
  },
  {
   "cell_type": "code",
   "execution_count": 9,
   "metadata": {},
   "outputs": [
    {
     "name": "stderr",
     "output_type": "stream",
     "text": [
      "d:\\Develop\\chinese-grammar-error-detection\\notebooks\\..\\dataset.py:104: UserWarning: To copy construct from a tensor, it is recommended to use sourceTensor.clone().detach() or sourceTensor.clone().detach().requires_grad_(True), rather than torch.tensor(sourceTensor).\n",
      "  indexed_value = torch.tensor(value[index]).squeeze()\n"
     ]
    },
    {
     "name": "stdout",
     "output_type": "stream",
     "text": [
      "女娲有一双聪明能干的手。\n",
      "['手' '。']\n",
      "女娲有一双能干的手。\n",
      "[]\n",
      "女娲有一双聪明的手。\n",
      "['手' '。']\n",
      "[[0.34785727 0.6521427 ]\n",
      " [0.98132277 0.01867724]\n",
      " [0.2169356  0.7830643 ]]\n"
     ]
    }
   ],
   "source": [
    "## 搭配\n",
    "texts = [\n",
    "    '女娲有一双聪明能干的手。', \n",
    "    '女娲有一双能干的手。', \n",
    "    '女娲有一双聪明的手。', \n",
    "]\n",
    "\n",
    "apply_ged_pipeline(texts)"
   ]
  },
  {
   "cell_type": "code",
   "execution_count": 10,
   "metadata": {},
   "outputs": [
    {
     "name": "stderr",
     "output_type": "stream",
     "text": [
      "d:\\Develop\\chinese-grammar-error-detection\\notebooks\\..\\dataset.py:104: UserWarning: To copy construct from a tensor, it is recommended to use sourceTensor.clone().detach() or sourceTensor.clone().detach().requires_grad_(True), rather than torch.tensor(sourceTensor).\n",
      "  indexed_value = torch.tensor(value[index]).squeeze()\n"
     ]
    },
    {
     "name": "stdout",
     "output_type": "stream",
     "text": [
      "张强从小生活在爷爷奶奶身边，因而对父母有着浓厚的感情。\n",
      "['因']\n",
      "张强从小生活在爷爷奶奶身边，却对父母有着浓厚的感情。\n",
      "[]\n",
      "[[0.4644153  0.5355847 ]\n",
      " [0.9779377  0.02206223]]\n"
     ]
    }
   ],
   "source": [
    "texts = [\n",
    "    '张强从小生活在爷爷奶奶身边，因而对父母有着浓厚的感情。', \n",
    "    '张强从小生活在爷爷奶奶身边，却对父母有着浓厚的感情。',\n",
    "]\n",
    "\n",
    "apply_ged_pipeline(texts)"
   ]
  },
  {
   "cell_type": "code",
   "execution_count": 13,
   "metadata": {},
   "outputs": [
    {
     "name": "stderr",
     "output_type": "stream",
     "text": [
      "d:\\Develop\\chinese-grammar-error-detection\\notebooks\\..\\dataset.py:104: UserWarning: To copy construct from a tensor, it is recommended to use sourceTensor.clone().detach() or sourceTensor.clone().detach().requires_grad_(True), rather than torch.tensor(sourceTensor).\n",
      "  indexed_value = torch.tensor(value[index]).squeeze()\n"
     ]
    },
    {
     "name": "stdout",
     "output_type": "stream",
     "text": [
      "雨珠砸在玻璃上，发出噼噼啪啪的声响。\n",
      "['响']\n",
      "雨珠砸在玻璃上，发出噼噼啪啪的声音。\n",
      "[]\n",
      "[[0.46136987 0.5386302 ]\n",
      " [0.9908223  0.00917768]]\n"
     ]
    }
   ],
   "source": [
    "texts = [\n",
    "    '雨珠砸在玻璃上，发出噼噼啪啪的声响。', \n",
    "    '雨珠砸在玻璃上，发出噼噼啪啪的声音。', \n",
    "]\n",
    "\n",
    "apply_ged_pipeline(texts)"
   ]
  },
  {
   "cell_type": "code",
   "execution_count": 16,
   "metadata": {},
   "outputs": [
    {
     "name": "stderr",
     "output_type": "stream",
     "text": [
      "d:\\Develop\\chinese-grammar-error-detection\\notebooks\\..\\dataset.py:104: UserWarning: To copy construct from a tensor, it is recommended to use sourceTensor.clone().detach() or sourceTensor.clone().detach().requires_grad_(True), rather than torch.tensor(sourceTensor).\n",
      "  indexed_value = torch.tensor(value[index]).squeeze()\n"
     ]
    },
    {
     "name": "stdout",
     "output_type": "stream",
     "text": [
      "我们不仅要在课外学语文，还要在课堂中学语文。\n",
      "[]\n",
      "我们不仅要在课堂中学语文，还要在课外学语文。\n",
      "[]\n",
      "[[0.94891137 0.0510886 ]\n",
      " [0.9909361  0.00906394]]\n"
     ]
    }
   ],
   "source": [
    "texts = [\n",
    "    '我们不仅要在课外学语文，还要在课堂中学语文。', \n",
    "    '我们不仅要在课堂中学语文，还要在课外学语文。', \n",
    "]\n",
    "\n",
    "apply_ged_pipeline(texts)"
   ]
  },
  {
   "cell_type": "code",
   "execution_count": 19,
   "metadata": {},
   "outputs": [
    {
     "name": "stderr",
     "output_type": "stream",
     "text": [
      "d:\\Develop\\chinese-grammar-error-detection\\notebooks\\..\\dataset.py:104: UserWarning: To copy construct from a tensor, it is recommended to use sourceTensor.clone().detach() or sourceTensor.clone().detach().requires_grad_(True), rather than torch.tensor(sourceTensor).\n",
      "  indexed_value = torch.tensor(value[index]).squeeze()\n"
     ]
    },
    {
     "name": "stdout",
     "output_type": "stream",
     "text": [
      "熟悉小华的人都知道，他在生活中并不是一个活泼开朗的人。\n",
      "['。']\n",
      "熟悉小华的人都知道，他在生活中并不是一个活泼开朗的人\n",
      "[]\n",
      "[[0.44460878 0.55539125]\n",
      " [0.66021276 0.33978721]]\n"
     ]
    }
   ],
   "source": [
    "texts = [\n",
    "    '熟悉小华的人都知道，他在生活中并不是一个活泼开朗的人。', \n",
    "    '熟悉小华的人都知道，他在生活中并不是一个活泼开朗的人', \n",
    "]\n",
    "apply_ged_pipeline(texts)"
   ]
  },
  {
   "cell_type": "code",
   "execution_count": 23,
   "metadata": {},
   "outputs": [
    {
     "name": "stderr",
     "output_type": "stream",
     "text": [
      "d:\\Develop\\chinese-grammar-error-detection\\notebooks\\..\\dataset.py:104: UserWarning: To copy construct from a tensor, it is recommended to use sourceTensor.clone().detach() or sourceTensor.clone().detach().requires_grad_(True), rather than torch.tensor(sourceTensor).\n",
      "  indexed_value = torch.tensor(value[index]).squeeze()\n"
     ]
    },
    {
     "name": "stdout",
     "output_type": "stream",
     "text": [
      "杨洋经过三年的艰苦拼搏，在此次中考中取得了优异的成绩。\n",
      "['经']\n",
      "经过三年的艰苦拼搏，杨洋在此次中考中取得了优异的成绩。\n",
      "[]\n",
      "[[0.44143602 0.55856395]\n",
      " [0.9954104  0.00458963]]\n"
     ]
    }
   ],
   "source": [
    "texts = [\n",
    "    '杨洋经过三年的艰苦拼搏，在此次中考中取得了优异的成绩。', \n",
    "    '经过三年的艰苦拼搏，杨洋在此次中考中取得了优异的成绩。', \n",
    "]\n",
    "\n",
    "apply_ged_pipeline(texts)"
   ]
  },
  {
   "cell_type": "code",
   "execution_count": 29,
   "metadata": {},
   "outputs": [
    {
     "name": "stderr",
     "output_type": "stream",
     "text": [
      "d:\\Develop\\chinese-grammar-error-detection\\notebooks\\..\\dataset.py:104: UserWarning: To copy construct from a tensor, it is recommended to use sourceTensor.clone().detach() or sourceTensor.clone().detach().requires_grad_(True), rather than torch.tensor(sourceTensor).\n",
      "  indexed_value = torch.tensor(value[index]).squeeze()\n"
     ]
    },
    {
     "name": "stdout",
     "output_type": "stream",
     "text": [
      "小明待人非常大方友善得很。\n",
      "[]\n",
      "小明待人非常大方友善。\n",
      "[]\n",
      "[[0.66976124 0.3302388 ]\n",
      " [0.9684443  0.03155573]]\n"
     ]
    }
   ],
   "source": [
    "texts = [\n",
    "    '小明待人非常大方友善得很。', \n",
    "    '小明待人非常大方友善。', \n",
    "]\n",
    "\n",
    "apply_ged_pipeline(texts)"
   ]
  },
  {
   "cell_type": "code",
   "execution_count": 21,
   "metadata": {},
   "outputs": [
    {
     "name": "stderr",
     "output_type": "stream",
     "text": [
      "d:\\Develop\\chinese-grammar-error-detection\\notebooks\\..\\dataset.py:104: UserWarning: To copy construct from a tensor, it is recommended to use sourceTensor.clone().detach() or sourceTensor.clone().detach().requires_grad_(True), rather than torch.tensor(sourceTensor).\n",
      "  indexed_value = torch.tensor(value[index]).squeeze()\n"
     ]
    },
    {
     "name": "stdout",
     "output_type": "stream",
     "text": [
      "他为了民族的兴亡和人民的利益奋斗了一生。\n",
      "[]\n",
      "他为了民族的复兴和人民的利益奋斗了一生。\n",
      "[]\n",
      "[[0.55955344 0.44044662]\n",
      " [0.93049335 0.06950669]]\n"
     ]
    }
   ],
   "source": [
    "# 语义：单面对双面\n",
    "texts = [\n",
    "    '他为了民族的兴亡和人民的利益奋斗了一生。', \n",
    "    '他为了民族的复兴和人民的利益奋斗了一生。', \n",
    "]\n",
    "\n",
    "apply_ged_pipeline(texts)"
   ]
  },
  {
   "cell_type": "code",
   "execution_count": 51,
   "metadata": {},
   "outputs": [
    {
     "name": "stderr",
     "output_type": "stream",
     "text": [
      "d:\\Develop\\chinese-grammar-error-detection\\notebooks\\..\\dataset.py:104: UserWarning: To copy construct from a tensor, it is recommended to use sourceTensor.clone().detach() or sourceTensor.clone().detach().requires_grad_(True), rather than torch.tensor(sourceTensor).\n",
      "  indexed_value = torch.tensor(value[index]).squeeze()\n"
     ]
    },
    {
     "name": "stdout",
     "output_type": "stream",
     "text": [
      "我不禁怀疑这条题目是不是老师讲错了。\n",
      "[]\n",
      "我不禁怀疑这道题目是老师讲错了。\n",
      "[]\n"
     ]
    }
   ],
   "source": [
    "texts = [\n",
    "    '我不禁怀疑这条题目是不是老师讲错了。', \n",
    "    '我不禁怀疑这道题目是老师讲错了。', \n",
    "]\n",
    "\n",
    "probs, seq_probs = clf(texts=texts, checkpoints=checkpoints, device=device, output_probabilities=True)\n"
   ]
  },
  {
   "cell_type": "code",
   "execution_count": 32,
   "metadata": {},
   "outputs": [
    {
     "name": "stderr",
     "output_type": "stream",
     "text": [
      "d:\\Develop\\chinese-grammar-error-detection\\notebooks\\..\\dataset.py:104: UserWarning: To copy construct from a tensor, it is recommended to use sourceTensor.clone().detach() or sourceTensor.clone().detach().requires_grad_(True), rather than torch.tensor(sourceTensor).\n",
      "  indexed_value = torch.tensor(value[index]).squeeze()\n"
     ]
    },
    {
     "name": "stdout",
     "output_type": "stream",
     "text": [
      "面对经济不断下行的形势，政府采取了一系列措施来刺激消费，以促进经济繁荣和复苏。\n",
      "['和' '复' '苏' '。']\n",
      "面对经济不断下行，政府采取了一系列措施来刺激消费，以促进经济繁荣和复苏。\n",
      "['面' '对' '经' '济' '不' '断' '下' '行' '，' '政' '府' '采' '取' '了' '一' '系' '列' '措'\n",
      " '施' '来' '刺' '消' '费' '，' '以' '促' '进' '经' '济' '繁' '荣' '和' '复' '苏' '。']\n",
      "[[0.24557753 0.7544225 ]\n",
      " [0.01715383 0.9828462 ]]\n"
     ]
    }
   ],
   "source": [
    "texts = [\n",
    "    '面对经济不断下行的形势，政府采取了一系列措施来刺激消费，以促进经济繁荣和复苏。', \n",
    "    '面对经济不断下行，政府采取了一系列措施来刺激消费，以促进经济繁荣和复苏。'\n",
    "]\n",
    "apply_ged_pipeline(texts)"
   ]
  },
  {
   "cell_type": "code",
   "execution_count": 52,
   "metadata": {},
   "outputs": [
    {
     "name": "stderr",
     "output_type": "stream",
     "text": [
      "d:\\Develop\\chinese-grammar-error-detection\\notebooks\\..\\dataset.py:104: UserWarning: To copy construct from a tensor, it is recommended to use sourceTensor.clone().detach() or sourceTensor.clone().detach().requires_grad_(True), rather than torch.tensor(sourceTensor).\n",
      "  indexed_value = torch.tensor(value[index]).squeeze()\n"
     ]
    },
    {
     "name": "stdout",
     "output_type": "stream",
     "text": [
      "从小明这一个简单的举动中，可以让人看出他是一个细心的好孩子。\n",
      "['从' '小' '明' '这' '一' '个' '简' '单' '的' '举' '动' '中' '，' '可' '以' '让' '人' '看'\n",
      " '出' '他' '是' '一' '个' '细' '心' '的' '好' '孩' '子' '。']\n",
      "小明这一个简单的举动，可以让人看出他是一个细心的好孩子。\n",
      "[]\n"
     ]
    },
    {
     "name": "stderr",
     "output_type": "stream",
     "text": [
      "d:\\Develop\\chinese-grammar-error-detection\\notebooks\\..\\dataset.py:104: UserWarning: To copy construct from a tensor, it is recommended to use sourceTensor.clone().detach() or sourceTensor.clone().detach().requires_grad_(True), rather than torch.tensor(sourceTensor).\n",
      "  indexed_value = torch.tensor(value[index]).squeeze()\n"
     ]
    },
    {
     "name": "stdout",
     "output_type": "stream",
     "text": [
      "我想，人是由三部分组成的：对往事的追忆、对未来的憧憬和对现时的把握。\n",
      "['由' '：' '的' '、' '对' '的' '和' '的' '。']\n",
      "我想，人是由三部分组成的：对往事的追忆、对现时的把握和对未来的憧憬。\n",
      "[]\n"
     ]
    }
   ],
   "source": [
    "texts = [\n",
    "    '从小明这一个简单的举动中，可以让人看出他是一个细心的好孩子。', \n",
    "    '小明这一个简单的举动，可以让人看出他是一个细心的好孩子。', \n",
    "]\n",
    "\n",
    "probs, seq_probs = clf(texts=texts, checkpoints=checkpoints, device=device, output_probabilities=True)\n",
    "\n",
    "texts = [\n",
    "    '我想，人是由三部分组成的：对往事的追忆、对未来的憧憬和对现时的把握。', \n",
    "    '我想，人是由三部分组成的：对往事的追忆、对现时的把握和对未来的憧憬。', \n",
    "]\n",
    "\n",
    "probs, seq_probs = clf(texts=texts, checkpoints=checkpoints, device=device, output_probabilities=True)"
   ]
  },
  {
   "cell_type": "code",
   "execution_count": 53,
   "metadata": {},
   "outputs": [
    {
     "name": "stderr",
     "output_type": "stream",
     "text": [
      "d:\\Develop\\chinese-grammar-error-detection\\notebooks\\..\\dataset.py:104: UserWarning: To copy construct from a tensor, it is recommended to use sourceTensor.clone().detach() or sourceTensor.clone().detach().requires_grad_(True), rather than torch.tensor(sourceTensor).\n",
      "  indexed_value = torch.tensor(value[index]).squeeze()\n"
     ]
    },
    {
     "name": "stdout",
     "output_type": "stream",
     "text": [
      "时光的流逝不能让我淡去对故乡浓浓的思念，反之，随着年龄的增长，对故乡的思念愈发日久弥坚。\n",
      "['时' '光' '的' '流' '逝' '不' '能' '让' '我' '淡' '去' '对' '故' '乡' '浓' '浓' '的' '思'\n",
      " '念' '，' '反' '之' '，' '随' '着' '年' '龄' '的' '增' '长' '，' '对' '故' '乡' '的' '思'\n",
      " '念' '愈' '发' '日' '久' '弥' '坚' '。']\n",
      "时光的流逝不能让我淡去对故乡浓浓的思念，反之，随着年龄的增长，对故乡的思念日久弥坚。\n",
      "['，' '反' '之' '，' '随' '着' '，' '对' '的' '日' '久' '弥' '坚' '。']\n"
     ]
    }
   ],
   "source": [
    "# 成分残缺/赘余\n",
    "\n",
    "texts = [\n",
    "    '时光的流逝不能让我淡去对故乡浓浓的思念，反之，随着年龄的增长，对故乡的思念愈发日久弥坚。', \n",
    "    '时光的流逝不能让我淡去对故乡浓浓的思念，反之，随着年龄的增长，对故乡的思念日久弥坚。', \n",
    "]\n",
    "\n",
    "probs, seq_probs = clf(texts=texts, checkpoints=checkpoints, device=device, output_probabilities=True)"
   ]
  },
  {
   "cell_type": "code",
   "execution_count": 35,
   "metadata": {},
   "outputs": [
    {
     "name": "stderr",
     "output_type": "stream",
     "text": [
      "d:\\Develop\\chinese-grammar-error-detection\\notebooks\\..\\dataset.py:104: UserWarning: To copy construct from a tensor, it is recommended to use sourceTensor.clone().detach() or sourceTensor.clone().detach().requires_grad_(True), rather than torch.tensor(sourceTensor).\n",
      "  indexed_value = torch.tensor(value[index]).squeeze()\n"
     ]
    },
    {
     "name": "stdout",
     "output_type": "stream",
     "text": [
      "朱悦报了一个培训班，她固执的思想却依然没有改变。\n",
      "['朱' '悦' '报' '了' '一' '个' '培' '训' '班' '，' '她' '固' '执' '的' '思' '想' '却' '依'\n",
      " '然' '没' '有' '改' '变' '。']\n",
      "朱悦报了一个培训班，她固执的思想却依然没有改变。\n",
      "['朱' '悦' '报' '了' '一' '个' '培' '训' '班' '，' '她' '固' '执' '的' '思' '想' '却' '依'\n",
      " '然' '没' '有' '改' '变' '。']\n"
     ]
    }
   ],
   "source": [
    "texts = [\n",
    "    '朱悦报了一个培训班，她固执的思想却依然没有改变。', \n",
    "    '朱悦报了一个培训班，她固执的思想却依然没有改变。', \n",
    "]\n",
    "\n",
    "probs, seq_probs = clf(texts=texts, checkpoints=checkpoints, device=device, output_probabilities=True)"
   ]
  },
  {
   "cell_type": "code",
   "execution_count": 54,
   "metadata": {},
   "outputs": [
    {
     "name": "stderr",
     "output_type": "stream",
     "text": [
      "d:\\Develop\\chinese-grammar-error-detection\\notebooks\\..\\dataset.py:104: UserWarning: To copy construct from a tensor, it is recommended to use sourceTensor.clone().detach() or sourceTensor.clone().detach().requires_grad_(True), rather than torch.tensor(sourceTensor).\n",
      "  indexed_value = torch.tensor(value[index]).squeeze()\n"
     ]
    },
    {
     "name": "stdout",
     "output_type": "stream",
     "text": [
      "下午三点整，参加典礼的群众全部到齐了。\n",
      "[]\n",
      "下午三点整，参加典礼的群众到齐了。\n",
      "[]\n",
      "下午三点整，参加典礼的群众全部到了。\n",
      "[]\n"
     ]
    }
   ],
   "source": [
    "texts = [\n",
    "    '下午三点整，参加典礼的群众全部到齐了。',\n",
    "     '下午三点整，参加典礼的群众到齐了。',\n",
    "     '下午三点整，参加典礼的群众全部到了。',\n",
    "]\n",
    "\n",
    "probs, seq_probs = clf(texts=texts, checkpoints=checkpoints, device=device, output_probabilities=True)"
   ]
  }
 ],
 "metadata": {
  "kernelspec": {
   "display_name": "Python 3.9.12 ('general-torch')",
   "language": "python",
   "name": "python3"
  },
  "language_info": {
   "codemirror_mode": {
    "name": "ipython",
    "version": 3
   },
   "file_extension": ".py",
   "mimetype": "text/x-python",
   "name": "python",
   "nbconvert_exporter": "python",
   "pygments_lexer": "ipython3",
   "version": "3.9.12"
  },
  "orig_nbformat": 4,
  "vscode": {
   "interpreter": {
    "hash": "664321c82ff6de4bb3d6cb89c025cd05a28d5519bb13940eaa668e3035d94110"
   }
  }
 },
 "nbformat": 4,
 "nbformat_minor": 2
}
