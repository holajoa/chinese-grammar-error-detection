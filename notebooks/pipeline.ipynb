{
 "cells": [
  {
   "cell_type": "code",
   "execution_count": 2,
   "metadata": {},
   "outputs": [],
   "source": [
    "import sys\n",
    "sys.path.append('..')\n",
    "\n",
    "import torch\n",
    "import numpy as np\n",
    "\n",
    "from utils import ntf\n",
    "from pipeline import PipelineGED\n",
    "\n",
    "from transformers import logging\n",
    "logging.set_verbosity_error()"
   ]
  },
  {
   "cell_type": "code",
   "execution_count": 18,
   "metadata": {},
   "outputs": [],
   "source": [
    "checkpoints = [\n",
    "    '../finetuned_models/ner_run_aug_mini/fold0/checkpoint-796/pytorch_model.bin',  \n",
    "    '../finetuned_models/ner_run_aug_mini/fold1/checkpoint-796/pytorch_model.bin',  \n",
    "]\n",
    "model_name = 'hfl/chinese-macbert-base'\n",
    "\n",
    "\n",
    "device = torch.device(\"cpu\")\n",
    "# device = torch.device(\"cuda:0\")\n",
    "\n",
    "data_configs = {\n",
    "    'model_name':model_name,\n",
    "    'maxlength':128,\n",
    "    'train_val_split':-1,\n",
    "    'test':True, \n",
    "    'remove_username':False,\n",
    "    'remove_punctuation':False, \n",
    "    'to_simplified':False, \n",
    "    'emoji_to_text':False, \n",
    "    'split_words':False, \n",
    "    'cut_all':False, \n",
    "}\n",
    "clf = PipelineGED(model_name=model_name, data_configs=data_configs)"
   ]
  },
  {
   "cell_type": "code",
   "execution_count": 24,
   "metadata": {},
   "outputs": [
    {
     "name": "stderr",
     "output_type": "stream",
     "text": [
      "d:\\Develop\\chinese-grammar-error-detection\\notebooks\\..\\dataset.py:104: UserWarning: To copy construct from a tensor, it is recommended to use sourceTensor.clone().detach() or sourceTensor.clone().detach().requires_grad_(True), rather than torch.tensor(sourceTensor).\n",
      "  indexed_value = torch.tensor(value[index]).squeeze()\n"
     ]
    },
    {
     "name": "stdout",
     "output_type": "stream",
     "text": [
      "明天就放暑假了，班上的同学都很激动。\n",
      "明天就放暑假了，班上的同学很激动。\n"
     ]
    },
    {
     "data": {
      "text/plain": [
       "array([[0.12790188, 0.8720981 ],\n",
       "       [0.14710762, 0.8528924 ]], dtype=float32)"
      ]
     },
     "execution_count": 24,
     "metadata": {},
     "output_type": "execute_result"
    }
   ],
   "source": [
    "texts = [\n",
    "    '明天就放暑假了，班上的同学都很激动。', \n",
    "    '明天就放暑假了，班上的同学很激动。', \n",
    "]\n",
    "\n",
    "clf(texts=texts, checkpoints=checkpoints, device=device, output_probabilities=True)"
   ]
  },
  {
   "cell_type": "code",
   "execution_count": 11,
   "metadata": {},
   "outputs": [
    {
     "name": "stderr",
     "output_type": "stream",
     "text": [
      "d:\\Develop\\chinese-grammar-error-detection\\notebooks\\..\\dataset.py:104: UserWarning: To copy construct from a tensor, it is recommended to use sourceTensor.clone().detach() or sourceTensor.clone().detach().requires_grad_(True), rather than torch.tensor(sourceTensor).\n",
      "  indexed_value = torch.tensor(value[index]).squeeze()\n"
     ]
    },
    {
     "name": "stdout",
     "output_type": "stream",
     "text": [
      "女娲有一双聪明能干的手。\n",
      "女娲有一双能干的手。\n",
      "女娲有一双聪明的手。\n",
      "[[0.31484938 0.6851507 ]\n",
      " [0.2918935  0.70810646]\n",
      " [0.2556645  0.74433553]]\n"
     ]
    },
    {
     "name": "stderr",
     "output_type": "stream",
     "text": [
      "d:\\Develop\\chinese-grammar-error-detection\\notebooks\\..\\dataset.py:104: UserWarning: To copy construct from a tensor, it is recommended to use sourceTensor.clone().detach() or sourceTensor.clone().detach().requires_grad_(True), rather than torch.tensor(sourceTensor).\n",
      "  indexed_value = torch.tensor(value[index]).squeeze()\n"
     ]
    },
    {
     "name": "stdout",
     "output_type": "stream",
     "text": [
      "只有恪守学术道德，才能消除学术腐败，净化学术界。\n",
      "只要恪守学术道德，才能消除学术腐败，净化学术界。\n",
      "[[0.12565774 0.8743422 ]\n",
      " [0.029732   0.97026795]]\n"
     ]
    }
   ],
   "source": [
    "## 搭配\n",
    "texts = [\n",
    "    '女娲有一双聪明能干的手。', \n",
    "    '女娲有一双能干的手。', \n",
    "    '女娲有一双聪明的手。', \n",
    "]\n",
    "\n",
    "print(clf(texts=texts, checkpoints=checkpoints, device=device, output_probabilities=True))\n",
    "\n",
    "texts = [\n",
    "    '只有恪守学术道德，才能消除学术腐败，净化学术界。', \n",
    "    '只要恪守学术道德，才能消除学术腐败，净化学术界。'\n",
    "]\n",
    "\n",
    "print(clf(texts=texts, checkpoints=checkpoints, device=device, output_probabilities=True))"
   ]
  },
  {
   "cell_type": "code",
   "execution_count": 14,
   "metadata": {},
   "outputs": [
    {
     "name": "stderr",
     "output_type": "stream",
     "text": [
      "d:\\Develop\\chinese-grammar-error-detection\\notebooks\\..\\dataset.py:104: UserWarning: To copy construct from a tensor, it is recommended to use sourceTensor.clone().detach() or sourceTensor.clone().detach().requires_grad_(True), rather than torch.tensor(sourceTensor).\n",
      "  indexed_value = torch.tensor(value[index]).squeeze()\n"
     ]
    },
    {
     "name": "stdout",
     "output_type": "stream",
     "text": [
      "现在高中学生不喜欢阅读世界名著的一个重要原因，是部分学生认为阅读名著不能增加高考语文得分。\n",
      "学生认为阅读名著不能增加得分。\n"
     ]
    },
    {
     "data": {
      "text/plain": [
       "array([[0.0419014 , 0.9580986 ],\n",
       "       [0.48035076, 0.5196492 ]], dtype=float32)"
      ]
     },
     "execution_count": 14,
     "metadata": {},
     "output_type": "execute_result"
    }
   ],
   "source": [
    "texts = [\n",
    "    '现在高中学生不喜欢阅读世界名著的一个重要原因，是部分学生认为阅读名著不能增加高考语文得分。', \n",
    "    '学生认为阅读名著不能增加得分。', \n",
    "]\n",
    "\n",
    "clf(texts=texts, checkpoints=checkpoints, device=device, output_probabilities=True)"
   ]
  },
  {
   "cell_type": "code",
   "execution_count": 15,
   "metadata": {},
   "outputs": [
    {
     "name": "stderr",
     "output_type": "stream",
     "text": [
      "d:\\Develop\\chinese-grammar-error-detection\\notebooks\\..\\dataset.py:104: UserWarning: To copy construct from a tensor, it is recommended to use sourceTensor.clone().detach() or sourceTensor.clone().detach().requires_grad_(True), rather than torch.tensor(sourceTensor).\n",
      "  indexed_value = torch.tensor(value[index]).squeeze()\n"
     ]
    },
    {
     "name": "stdout",
     "output_type": "stream",
     "text": [
      "他为了民族的兴亡和人民的利益奋斗了一生。\n",
      "他为了民族的复兴和人民的利益奋斗了一生。\n",
      "[[0.78061116 0.21938887]\n",
      " [0.86008686 0.13991316]]\n"
     ]
    }
   ],
   "source": [
    "# 语义：单面对双面\n",
    "texts = [\n",
    "    '他为了民族的兴亡和人民的利益奋斗了一生。', \n",
    "    '他为了民族的复兴和人民的利益奋斗了一生。', \n",
    "]\n",
    "\n",
    "print(clf(texts=texts, checkpoints=checkpoints, device=device, output_probabilities=True))"
   ]
  },
  {
   "cell_type": "code",
   "execution_count": 16,
   "metadata": {},
   "outputs": [
    {
     "name": "stderr",
     "output_type": "stream",
     "text": [
      "d:\\Develop\\chinese-grammar-error-detection\\notebooks\\..\\dataset.py:104: UserWarning: To copy construct from a tensor, it is recommended to use sourceTensor.clone().detach() or sourceTensor.clone().detach().requires_grad_(True), rather than torch.tensor(sourceTensor).\n",
      "  indexed_value = torch.tensor(value[index]).squeeze()\n"
     ]
    },
    {
     "name": "stdout",
     "output_type": "stream",
     "text": [
      "从小明这一个简单的举动中，可以让人看出他是一个细心的好孩子。\n",
      "小明这一个简单的举动，可以让人看出他是一个细心的好孩子。\n",
      "[[0.8812645  0.11873545]\n",
      " [0.8475716  0.15242836]]\n"
     ]
    },
    {
     "name": "stderr",
     "output_type": "stream",
     "text": [
      "d:\\Develop\\chinese-grammar-error-detection\\notebooks\\..\\dataset.py:104: UserWarning: To copy construct from a tensor, it is recommended to use sourceTensor.clone().detach() or sourceTensor.clone().detach().requires_grad_(True), rather than torch.tensor(sourceTensor).\n",
      "  indexed_value = torch.tensor(value[index]).squeeze()\n"
     ]
    },
    {
     "name": "stdout",
     "output_type": "stream",
     "text": [
      "我想，人是由三部分组成的：对往事的追忆、对未来的憧憬和对现时的把握。\n",
      "我想，人是由三部分组成的：对往事的追忆、对现时的把握和对未来的憧憬。\n",
      "[[0.8357699  0.16423015]\n",
      " [0.86057377 0.13942622]]\n"
     ]
    }
   ],
   "source": [
    "texts = [\n",
    "    '从小明这一个简单的举动中，可以让人看出他是一个细心的好孩子。', \n",
    "    '小明这一个简单的举动，可以让人看出他是一个细心的好孩子。', \n",
    "]\n",
    "\n",
    "print(clf(texts=texts, checkpoints=checkpoints, device=device, output_probabilities=True))\n",
    "\n",
    "\n",
    "texts = [\n",
    "    '我想，人是由三部分组成的：对往事的追忆、对未来的憧憬和对现时的把握。', \n",
    "    '我想，人是由三部分组成的：对往事的追忆、对现时的把握和对未来的憧憬。', \n",
    "]\n",
    "\n",
    "print(clf(texts=texts, checkpoints=checkpoints, device=device, output_probabilities=True))"
   ]
  },
  {
   "cell_type": "code",
   "execution_count": 17,
   "metadata": {},
   "outputs": [
    {
     "name": "stderr",
     "output_type": "stream",
     "text": [
      "d:\\Develop\\chinese-grammar-error-detection\\notebooks\\..\\dataset.py:104: UserWarning: To copy construct from a tensor, it is recommended to use sourceTensor.clone().detach() or sourceTensor.clone().detach().requires_grad_(True), rather than torch.tensor(sourceTensor).\n",
      "  indexed_value = torch.tensor(value[index]).squeeze()\n"
     ]
    },
    {
     "name": "stdout",
     "output_type": "stream",
     "text": [
      "时光的流逝不能让我淡去对故乡浓浓的思念，反之，随着年龄的增长，对故乡的思念愈发日久弥坚。\n",
      "时光的流逝不能让我淡去对故乡浓浓的思念，反之，随着年龄的增长，对故乡的思念日久弥坚。\n",
      "[[0.11956172 0.88043827]\n",
      " [0.10410441 0.8958956 ]]\n"
     ]
    },
    {
     "name": "stderr",
     "output_type": "stream",
     "text": [
      "d:\\Develop\\chinese-grammar-error-detection\\notebooks\\..\\dataset.py:104: UserWarning: To copy construct from a tensor, it is recommended to use sourceTensor.clone().detach() or sourceTensor.clone().detach().requires_grad_(True), rather than torch.tensor(sourceTensor).\n",
      "  indexed_value = torch.tensor(value[index]).squeeze()\n"
     ]
    },
    {
     "name": "stdout",
     "output_type": "stream",
     "text": [
      "在《京都议定书》第二承诺期问题上，美国继续坚持称，除非中国等新兴市场大国也接受强制减排指标，否则，不接受的话，美国不可能签第二承诺期。\n",
      "在《京都议定书》第二承诺期问题上，美国继续坚持称，除非中国等新兴市场大国也接受强制减排指标，否则，美国不可能签第二承诺期。\n",
      "[[0.8552279  0.1447721 ]\n",
      " [0.8938278  0.10617216]]\n"
     ]
    }
   ],
   "source": [
    "# 成分残残缺/赘余\n",
    "\n",
    "texts = [\n",
    "    '时光的流逝不能让我淡去对故乡浓浓的思念，反之，随着年龄的增长，对故乡的思念愈发日久弥坚。', \n",
    "    '时光的流逝不能让我淡去对故乡浓浓的思念，反之，随着年龄的增长，对故乡的思念日久弥坚。', \n",
    "]\n",
    "\n",
    "print(clf(texts=texts, checkpoints=checkpoints, device=device, output_probabilities=True))\n",
    "\n",
    "texts = [\n",
    "    '在《京都议定书》第二承诺期问题上，美国继续坚持称，除非中国等新兴市场大国也接受强制减排指标，否则，不接受的话，美国不可能签第二承诺期。', \n",
    "    '在《京都议定书》第二承诺期问题上，美国继续坚持称，除非中国等新兴市场大国也接受强制减排指标，否则，美国不可能签第二承诺期。', \n",
    "]\n",
    "\n",
    "print(clf(texts=texts, checkpoints=checkpoints, device=device, output_probabilities=True))"
   ]
  }
 ],
 "metadata": {
  "kernelspec": {
   "display_name": "Python 3.9.12 ('general-torch')",
   "language": "python",
   "name": "python3"
  },
  "language_info": {
   "codemirror_mode": {
    "name": "ipython",
    "version": 3
   },
   "file_extension": ".py",
   "mimetype": "text/x-python",
   "name": "python",
   "nbconvert_exporter": "python",
   "pygments_lexer": "ipython3",
   "version": "3.9.12"
  },
  "orig_nbformat": 4,
  "vscode": {
   "interpreter": {
    "hash": "664321c82ff6de4bb3d6cb89c025cd05a28d5519bb13940eaa668e3035d94110"
   }
  }
 },
 "nbformat": 4,
 "nbformat_minor": 2
}
