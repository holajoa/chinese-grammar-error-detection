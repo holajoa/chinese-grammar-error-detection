{
 "cells": [
  {
   "cell_type": "code",
   "execution_count": 1,
   "metadata": {},
   "outputs": [],
   "source": [
    "import sys\n",
    "sys.path.append('..')\n",
    "\n",
    "import torch\n",
    "import pandas as pd\n",
    "import numpy as np\n",
    "from torch import nn \n",
    "from torch.utils.data import DataLoader\n",
    "from transformers import AutoTokenizer, AutoModelForTokenClassification\n",
    "from datasets import Dataset\n",
    "from torchcrf import CRF\n",
    "from tqdm.notebook import tqdm_notebook\n",
    "import logging\n",
    "\n",
    "from utils import *\n",
    "from dataset import *\n",
    "from preprocess import *\n",
    "from wrapper import *\n",
    "from models import *\n",
    "from pipeline import POSTaggingPipeline, map_to_df\n",
    "\n",
    "torch.cuda.is_available()\n",
    "# device = torch.device('cpu')\n",
    "device = torch.device('cuda:0')"
   ]
  },
  {
   "cell_type": "code",
   "execution_count": 2,
   "metadata": {},
   "outputs": [],
   "source": [
    "df = pd.read_csv('../data/data-org/train.csv', sep='\\t').set_index('id')\n",
    "corpus = df[df.label == 0].drop(columns=['label'])"
   ]
  },
  {
   "cell_type": "code",
   "execution_count": 3,
   "metadata": {},
   "outputs": [
    {
     "name": "stderr",
     "output_type": "stream",
     "text": [
      "d:\\Develop\\chinese-grammar-error-detection\\notebooks\\..\\dataset.py:122: UserWarning: To copy construct from a tensor, it is recommended to use sourceTensor.clone().detach() or sourceTensor.clone().detach().requires_grad_(True), rather than torch.tensor(sourceTensor).\n",
      "  indexed_value = torch.tensor(value[index]).squeeze()\n",
      "100%|██████████| 718/718 [01:15<00:00,  9.45it/s]\n"
     ]
    }
   ],
   "source": [
    "model_name = \"KoichiYasuoka/chinese-bert-wwm-ext-upos\"\n",
    "\n",
    "tagger = POSTaggingPipeline(model_name=model_name)\n",
    "ds = tagger(texts=corpus, device=device, return_tags=False)"
   ]
  },
  {
   "cell_type": "code",
   "execution_count": 4,
   "metadata": {},
   "outputs": [],
   "source": [
    "ds.test = False\n",
    "ds.train_val_split = 0.8\n",
    "ds.construct_dataset()"
   ]
  },
  {
   "cell_type": "code",
   "execution_count": 5,
   "metadata": {},
   "outputs": [],
   "source": [
    "id2label = tagger.model.config.id2label\n",
    "num_tags = len(id2label)\n",
    "\n",
    "crf = CRF(num_tags=num_tags, batch_first=True)\n",
    "if 'cuda' in device.type:\n",
    "    crf.cuda()"
   ]
  },
  {
   "cell_type": "code",
   "execution_count": 50,
   "metadata": {},
   "outputs": [],
   "source": [
    "seq_len = ds.maxlength\n",
    "batch_size = 128\n",
    "\n",
    "def get_tagging_datasets(ds):\n",
    "    return (\n",
    "        ds.dataset['train'].with_format('pytorch', columns=['emissions', 'attention_mask']).rename_columns({'attention_mask':'mask'}),\n",
    "        ds.dataset['val'].with_format('pytorch', columns=['emissions', 'attention_mask']).rename_columns({'attention_mask':'mask'}),\n",
    "    )\n",
    "\n",
    "def process_batch(batch, device):\n",
    "    inputs = {}\n",
    "    inputs['mask'] = batch['mask'].bool().to(device=device)\n",
    "    inputs['emissions'] = torch.concat([torch.concat([x]).unsqueeze(1) for x in batch['emissions']], dim=1).to(device=device)\n",
    "    inputs['tags'] = inputs['emissions'].argmax(-1).to(device=device)\n",
    "    return inputs\n",
    "    \n",
    "train_set, dev_set = get_tagging_datasets(ds)\n",
    "train_dataloader = DataLoader(\n",
    "    train_set, \n",
    "    batch_size=batch_size, \n",
    "    drop_last=True, \n",
    ")\n",
    "dev_dataloader = DataLoader(\n",
    "    dev_set, \n",
    "    batch_size=batch_size, \n",
    "    drop_last=True, \n",
    ")"
   ]
  },
  {
   "cell_type": "code",
   "execution_count": 39,
   "metadata": {},
   "outputs": [],
   "source": [
    "class EarlyStopping():\n",
    "    def __init__(self, tolerance=5, min_delta=0):\n",
    "\n",
    "        self.tolerance = tolerance\n",
    "        self.min_delta = min_delta\n",
    "        self.counter = 0\n",
    "        self.early_stop = False\n",
    "\n",
    "    def __call__(self, train_loss, validation_loss):\n",
    "        if (validation_loss - train_loss) > self.min_delta:\n",
    "            self.counter +=1\n",
    "            if self.counter >= self.tolerance:  \n",
    "                self.early_stop = True"
   ]
  },
  {
   "cell_type": "code",
   "execution_count": 51,
   "metadata": {},
   "outputs": [],
   "source": [
    "def process_batch(batch, device):\n",
    "    inputs = {}\n",
    "    inputs['mask'] = batch['mask'].bool().to(device=device)\n",
    "    inputs['emissions'] = torch.concat([torch.concat([x]).unsqueeze(1) for x in batch['emissions']], dim=1).to(device=device)\n",
    "    inputs['tags'] = inputs['emissions'].argmax(-1).to(device=device)\n",
    "    return inputs"
   ]
  },
  {
   "cell_type": "code",
   "execution_count": 74,
   "metadata": {},
   "outputs": [
    {
     "data": {
      "application/vnd.jupyter.widget-view+json": {
       "model_id": "01737ca31e934d9a83f15b37bf1ab829",
       "version_major": 2,
       "version_minor": 0
      },
      "text/plain": [
       "  0%|          | 0/73 [00:00<?, ?it/s]"
      ]
     },
     "metadata": {},
     "output_type": "display_data"
    },
    {
     "name": "stdout",
     "output_type": "stream",
     "text": [
      "Epoch 1/3, batch 1 - loss=423.0383\n",
      "Epoch 1/3, batch 2 - loss=384.0992\n",
      "Epoch 1/3, batch 3 - loss=440.8916\n",
      "Epoch 1/3, batch 4 - loss=434.1529\n",
      "Epoch 1/3, batch 5 - loss=411.3040\n",
      "Epoch 1/3, batch 6 - loss=409.9524\n",
      "Epoch 1/3, batch 7 - loss=400.6971\n",
      "Epoch 1/3, batch 8 - loss=429.5026\n",
      "Epoch 1/3, batch 9 - loss=416.3147\n",
      "Epoch 1/3, batch 10 - loss=395.2034\n"
     ]
    },
    {
     "data": {
      "application/vnd.jupyter.widget-view+json": {
       "model_id": "f0404051b5894abfa3b1d5f474b77454",
       "version_major": 2,
       "version_minor": 0
      },
      "text/plain": [
       "  0%|          | 0/17 [00:00<?, ?it/s]"
      ]
     },
     "metadata": {},
     "output_type": "display_data"
    },
    {
     "name": "stdout",
     "output_type": "stream",
     "text": [
      "Epoch 1/3, batch 10 - eval_loss=401.0936\n",
      "Epoch 1/3, batch 11 - loss=427.2185\n",
      "Epoch 1/3, batch 12 - loss=422.9277\n",
      "Epoch 1/3, batch 13 - loss=403.8193\n",
      "Epoch 1/3, batch 14 - loss=410.3123\n",
      "Epoch 1/3, batch 15 - loss=392.2834\n",
      "Epoch 1/3, batch 16 - loss=412.0963\n",
      "Epoch 1/3, batch 17 - loss=421.4496\n",
      "Epoch 1/3, batch 18 - loss=402.5340\n",
      "Epoch 1/3, batch 19 - loss=398.7207\n",
      "Epoch 1/3, batch 20 - loss=393.5833\n"
     ]
    },
    {
     "data": {
      "application/vnd.jupyter.widget-view+json": {
       "model_id": "d436447c7e0e4671930b58db199b745e",
       "version_major": 2,
       "version_minor": 0
      },
      "text/plain": [
       "  0%|          | 0/17 [00:00<?, ?it/s]"
      ]
     },
     "metadata": {},
     "output_type": "display_data"
    },
    {
     "name": "stdout",
     "output_type": "stream",
     "text": [
      "Epoch 1/3, batch 20 - eval_loss=396.7120\n",
      "Epoch 1/3, batch 21 - loss=437.3124\n",
      "Epoch 1/3, batch 22 - loss=401.1963\n",
      "Epoch 1/3, batch 23 - loss=413.6838\n",
      "Epoch 1/3, batch 24 - loss=404.9303\n",
      "Epoch 1/3, batch 25 - loss=416.8388\n",
      "Epoch 1/3, batch 26 - loss=429.9406\n",
      "Epoch 1/3, batch 27 - loss=433.1796\n",
      "Epoch 1/3, batch 28 - loss=419.8614\n",
      "Epoch 1/3, batch 29 - loss=389.1666\n",
      "Epoch 1/3, batch 30 - loss=443.5643\n"
     ]
    },
    {
     "data": {
      "application/vnd.jupyter.widget-view+json": {
       "model_id": "36e801b6392c464ab659eb0888bbf25c",
       "version_major": 2,
       "version_minor": 0
      },
      "text/plain": [
       "  0%|          | 0/17 [00:00<?, ?it/s]"
      ]
     },
     "metadata": {},
     "output_type": "display_data"
    },
    {
     "name": "stdout",
     "output_type": "stream",
     "text": [
      "Epoch 1/3, batch 30 - eval_loss=392.5508\n",
      "Epoch 1/3, batch 31 - loss=409.0026\n",
      "Epoch 1/3, batch 32 - loss=430.6183\n",
      "Epoch 1/3, batch 33 - loss=404.6949\n",
      "Epoch 1/3, batch 34 - loss=409.4085\n",
      "Epoch 1/3, batch 35 - loss=420.1406\n",
      "Epoch 1/3, batch 36 - loss=399.0977\n",
      "Epoch 1/3, batch 37 - loss=408.4098\n",
      "Epoch 1/3, batch 38 - loss=407.6553\n",
      "Epoch 1/3, batch 39 - loss=395.3962\n",
      "Epoch 1/3, batch 40 - loss=410.2718\n"
     ]
    },
    {
     "data": {
      "application/vnd.jupyter.widget-view+json": {
       "model_id": "e1eabf48ed0c4f97bca4054b48a075cf",
       "version_major": 2,
       "version_minor": 0
      },
      "text/plain": [
       "  0%|          | 0/17 [00:00<?, ?it/s]"
      ]
     },
     "metadata": {},
     "output_type": "display_data"
    },
    {
     "name": "stdout",
     "output_type": "stream",
     "text": [
      "Epoch 1/3, batch 40 - eval_loss=388.6565\n",
      "Epoch 1/3, batch 41 - loss=380.2943\n",
      "Epoch 1/3, batch 42 - loss=413.4385\n",
      "Epoch 1/3, batch 43 - loss=415.3864\n",
      "Epoch 1/3, batch 44 - loss=394.0885\n",
      "Epoch 1/3, batch 45 - loss=422.6746\n",
      "Epoch 1/3, batch 46 - loss=429.2598\n",
      "Epoch 1/3, batch 47 - loss=411.3257\n",
      "Epoch 1/3, batch 48 - loss=419.4204\n",
      "Epoch 1/3, batch 49 - loss=400.8913\n",
      "Epoch 1/3, batch 50 - loss=426.1041\n"
     ]
    },
    {
     "data": {
      "application/vnd.jupyter.widget-view+json": {
       "model_id": "6a1f29e5f8374b7c954ab6f199e4b5c6",
       "version_major": 2,
       "version_minor": 0
      },
      "text/plain": [
       "  0%|          | 0/17 [00:00<?, ?it/s]"
      ]
     },
     "metadata": {},
     "output_type": "display_data"
    },
    {
     "name": "stdout",
     "output_type": "stream",
     "text": [
      "Epoch 1/3, batch 50 - eval_loss=384.9334\n",
      "Epoch 1/3, batch 51 - loss=385.0130\n",
      "Epoch 1/3, batch 52 - loss=396.1605\n",
      "Epoch 1/3, batch 53 - loss=406.7057\n",
      "Epoch 1/3, batch 54 - loss=407.1459\n",
      "Epoch 1/3, batch 55 - loss=396.9057\n",
      "Epoch 1/3, batch 56 - loss=405.9680\n",
      "Epoch 1/3, batch 57 - loss=409.4943\n",
      "Epoch 1/3, batch 58 - loss=408.0563\n",
      "Epoch 1/3, batch 59 - loss=405.7230\n",
      "Epoch 1/3, batch 60 - loss=399.4765\n"
     ]
    },
    {
     "data": {
      "application/vnd.jupyter.widget-view+json": {
       "model_id": "4b51d1d9a40145c2a826c493752e54fe",
       "version_major": 2,
       "version_minor": 0
      },
      "text/plain": [
       "  0%|          | 0/17 [00:00<?, ?it/s]"
      ]
     },
     "metadata": {},
     "output_type": "display_data"
    },
    {
     "name": "stdout",
     "output_type": "stream",
     "text": [
      "Epoch 1/3, batch 60 - eval_loss=382.4023\n",
      "Epoch 1/3, batch 61 - loss=404.7292\n",
      "Epoch 1/3, batch 62 - loss=399.7075\n",
      "Epoch 1/3, batch 63 - loss=402.0840\n",
      "Epoch 1/3, batch 64 - loss=387.5009\n",
      "Epoch 1/3, batch 65 - loss=425.2590\n",
      "Epoch 1/3, batch 66 - loss=404.6015\n",
      "Epoch 1/3, batch 67 - loss=404.3321\n",
      "Epoch 1/3, batch 68 - loss=386.5385\n",
      "Epoch 1/3, batch 69 - loss=383.0920\n",
      "Epoch 1/3, batch 70 - loss=415.2444\n"
     ]
    },
    {
     "data": {
      "application/vnd.jupyter.widget-view+json": {
       "model_id": "8d3551a3aa38449aa62a7434c937b2a9",
       "version_major": 2,
       "version_minor": 0
      },
      "text/plain": [
       "  0%|          | 0/17 [00:00<?, ?it/s]"
      ]
     },
     "metadata": {},
     "output_type": "display_data"
    },
    {
     "name": "stdout",
     "output_type": "stream",
     "text": [
      "Epoch 1/3, batch 70 - eval_loss=380.1236\n",
      "Epoch 1/3, batch 71 - loss=369.6786\n",
      "Epoch 1/3, batch 72 - loss=405.6377\n",
      "Epoch 1/3, batch 73 - loss=404.1538\n"
     ]
    },
    {
     "data": {
      "application/vnd.jupyter.widget-view+json": {
       "model_id": "7c1f37e1a0994ae1a484044a14f3106c",
       "version_major": 2,
       "version_minor": 0
      },
      "text/plain": [
       "  0%|          | 0/73 [00:00<?, ?it/s]"
      ]
     },
     "metadata": {},
     "output_type": "display_data"
    },
    {
     "name": "stdout",
     "output_type": "stream",
     "text": [
      "Epoch 2/3, batch 1 - loss=401.0311\n",
      "Epoch 2/3, batch 2 - loss=360.5025\n",
      "Epoch 2/3, batch 3 - loss=415.7914\n",
      "Epoch 2/3, batch 4 - loss=410.8350\n",
      "Epoch 2/3, batch 5 - loss=391.2723\n",
      "Epoch 2/3, batch 6 - loss=388.6416\n",
      "Epoch 2/3, batch 7 - loss=377.8962\n",
      "Epoch 2/3, batch 8 - loss=407.7055\n",
      "Epoch 2/3, batch 9 - loss=394.2191\n",
      "Epoch 2/3, batch 10 - loss=373.2824\n"
     ]
    },
    {
     "data": {
      "application/vnd.jupyter.widget-view+json": {
       "model_id": "0b8bcb25f45e4d9996ad673944212f9d",
       "version_major": 2,
       "version_minor": 0
      },
      "text/plain": [
       "  0%|          | 0/17 [00:00<?, ?it/s]"
      ]
     },
     "metadata": {},
     "output_type": "display_data"
    },
    {
     "name": "stdout",
     "output_type": "stream",
     "text": [
      "Epoch 2/3, batch 10 - eval_loss=377.8331\n",
      "Epoch 2/3, batch 11 - loss=406.3651\n",
      "Epoch 2/3, batch 12 - loss=401.2399\n",
      "Epoch 2/3, batch 13 - loss=383.5083\n",
      "Epoch 2/3, batch 14 - loss=390.1543\n",
      "Epoch 2/3, batch 15 - loss=369.9137\n",
      "Epoch 2/3, batch 16 - loss=392.2078\n",
      "Epoch 2/3, batch 17 - loss=399.8146\n",
      "Epoch 2/3, batch 18 - loss=383.0024\n",
      "Epoch 2/3, batch 19 - loss=377.6260\n",
      "Epoch 2/3, batch 20 - loss=374.1037\n"
     ]
    },
    {
     "data": {
      "application/vnd.jupyter.widget-view+json": {
       "model_id": "fb4e1e7411524419b792788e84563acb",
       "version_major": 2,
       "version_minor": 0
      },
      "text/plain": [
       "  0%|          | 0/17 [00:00<?, ?it/s]"
      ]
     },
     "metadata": {},
     "output_type": "display_data"
    },
    {
     "name": "stdout",
     "output_type": "stream",
     "text": [
      "Epoch 2/3, batch 20 - eval_loss=376.2682\n",
      "Epoch 2/3, batch 21 - loss=418.3176\n",
      "Epoch 2/3, batch 22 - loss=383.4324\n",
      "Epoch 2/3, batch 23 - loss=394.8574\n",
      "Epoch 2/3, batch 24 - loss=387.5274\n",
      "Epoch 2/3, batch 25 - loss=400.4399\n",
      "Epoch 2/3, batch 26 - loss=411.2983\n",
      "Epoch 2/3, batch 27 - loss=416.8867\n",
      "Epoch 2/3, batch 28 - loss=401.6122\n",
      "Epoch 2/3, batch 29 - loss=371.8058\n",
      "Epoch 2/3, batch 30 - loss=428.1654\n"
     ]
    },
    {
     "data": {
      "application/vnd.jupyter.widget-view+json": {
       "model_id": "7aca27256e564894b1a8e9747d619089",
       "version_major": 2,
       "version_minor": 0
      },
      "text/plain": [
       "  0%|          | 0/17 [00:00<?, ?it/s]"
      ]
     },
     "metadata": {},
     "output_type": "display_data"
    },
    {
     "name": "stdout",
     "output_type": "stream",
     "text": [
      "Epoch 2/3, batch 30 - eval_loss=374.7233\n",
      "Epoch 2/3, batch 31 - loss=393.6469\n",
      "Epoch 2/3, batch 32 - loss=415.7027\n",
      "Epoch 2/3, batch 33 - loss=386.7276\n",
      "Epoch 2/3, batch 34 - loss=394.8110\n",
      "Epoch 2/3, batch 35 - loss=403.5959\n",
      "Epoch 2/3, batch 36 - loss=382.1316\n",
      "Epoch 2/3, batch 37 - loss=393.3418\n",
      "Epoch 2/3, batch 38 - loss=391.5686\n",
      "Epoch 2/3, batch 39 - loss=379.9682\n",
      "Epoch 2/3, batch 40 - loss=395.6619\n"
     ]
    },
    {
     "data": {
      "application/vnd.jupyter.widget-view+json": {
       "model_id": "966739be286e49ec94a999349d71eb6e",
       "version_major": 2,
       "version_minor": 0
      },
      "text/plain": [
       "  0%|          | 0/17 [00:00<?, ?it/s]"
      ]
     },
     "metadata": {},
     "output_type": "display_data"
    },
    {
     "name": "stdout",
     "output_type": "stream",
     "text": [
      "Epoch 2/3, batch 40 - eval_loss=373.2346\n",
      "Epoch 2/3, batch 41 - loss=366.3731\n",
      "Epoch 2/3, batch 42 - loss=397.6897\n",
      "Epoch 2/3, batch 43 - loss=401.6999\n",
      "Epoch 2/3, batch 44 - loss=380.8022\n",
      "Epoch 2/3, batch 45 - loss=407.7068\n",
      "Epoch 2/3, batch 46 - loss=417.2634\n",
      "Epoch 2/3, batch 47 - loss=398.4596\n",
      "Epoch 2/3, batch 48 - loss=407.8481\n",
      "Epoch 2/3, batch 49 - loss=388.1662\n",
      "Epoch 2/3, batch 50 - loss=413.5661\n"
     ]
    },
    {
     "data": {
      "application/vnd.jupyter.widget-view+json": {
       "model_id": "cd845e4a0ae546c1bf97667d0550b1f7",
       "version_major": 2,
       "version_minor": 0
      },
      "text/plain": [
       "  0%|          | 0/17 [00:00<?, ?it/s]"
      ]
     },
     "metadata": {},
     "output_type": "display_data"
    },
    {
     "name": "stdout",
     "output_type": "stream",
     "text": [
      "Epoch 2/3, batch 50 - eval_loss=371.7516\n",
      "Epoch 2/3, batch 51 - loss=373.4078\n",
      "Epoch 2/3, batch 52 - loss=385.1151\n",
      "Epoch 2/3, batch 53 - loss=394.3046\n",
      "Epoch 2/3, batch 54 - loss=395.0264\n",
      "Epoch 2/3, batch 55 - loss=385.6790\n",
      "Epoch 2/3, batch 56 - loss=393.6330\n"
     ]
    }
   ],
   "source": [
    "learning_rate=5e-3\n",
    "optimiser = torch.optim.AdamW(crf.parameters(), lr=learning_rate)\n",
    "scheduler = torch.optim.lr_scheduler.ExponentialLR(optimiser, gamma=0.7)\n",
    "\n",
    "loss_history = []\n",
    "eval_loss_history = []\n",
    "\n",
    "nn.init.xavier_normal_(crf.transitions)\n",
    "nn.init.normal_(crf.start_transitions)\n",
    "nn.init.normal_(crf.start_transitions)\n",
    "\n",
    "crf.train()\n",
    "\n",
    "for epoch in range(3):\n",
    "    for i, batch in enumerate(tqdm_notebook(train_dataloader)):\n",
    "        inputs = process_batch(batch, device=device)\n",
    "        loss = -crf(**inputs)\n",
    "        loss_history.append(loss.cpu().detach().unsqueeze(0))\n",
    "        \n",
    "        crf.zero_grad()\n",
    "        loss.backward()\n",
    "        optimiser.step()\n",
    "\n",
    "        if (i+1) % 1 == 0:\n",
    "            print(f'Epoch {epoch+1}/3, batch {i+1} - loss={loss_history[-1][0]:.4f}')\n",
    "        if (i+1) % 10 == 0:\n",
    "            crf.eval()\n",
    "            for j, dev_batch in enumerate(tqdm_notebook(dev_dataloader)):\n",
    "                dev_inputs = process_batch(dev_batch, device=device)\n",
    "                eval_loss = -crf(**dev_inputs)\n",
    "                eval_loss_history.append(eval_loss.cpu().detach().unsqueeze(0))\n",
    "            print(f'Epoch {epoch+1}/3, batch {i+1} - eval_loss={eval_loss_history[-1][0]:.4f}')\n",
    "            crf.train()\n",
    "\n",
    "        if i % 50 == 0:\n",
    "            scheduler.step()\n",
    "    "
   ]
  },
  {
   "cell_type": "code",
   "execution_count": 64,
   "metadata": {},
   "outputs": [],
   "source": [
    "import json\n",
    "import os\n",
    "from time import time\n",
    "\n",
    "\n",
    "state_dict = crf.state_dict()\n",
    "\n",
    "state_dicts_dir = 'crf_runs'\n",
    "if not os.path.exists(state_dicts_dir):\n",
    "    os.mkdir(state_dicts_dir)\n",
    "cp_dir = os.path.join(state_dicts_dir, str(time()).split('.')[-1]+'.tar')\n",
    "torch.save({\n",
    "    'epoch': epoch,\n",
    "    'model_state_dict': crf.state_dict(),\n",
    "    'optimizer_state_dict': optimiser.state_dict(),\n",
    "    'loss': loss,\n",
    "}, cp_dir)"
   ]
  }
 ],
 "metadata": {
  "kernelspec": {
   "display_name": "Python 3.9.12 ('general-torch')",
   "language": "python",
   "name": "python3"
  },
  "language_info": {
   "codemirror_mode": {
    "name": "ipython",
    "version": 3
   },
   "file_extension": ".py",
   "mimetype": "text/x-python",
   "name": "python",
   "nbconvert_exporter": "python",
   "pygments_lexer": "ipython3",
   "version": "3.9.12"
  },
  "orig_nbformat": 4,
  "vscode": {
   "interpreter": {
    "hash": "664321c82ff6de4bb3d6cb89c025cd05a28d5519bb13940eaa668e3035d94110"
   }
  }
 },
 "nbformat": 4,
 "nbformat_minor": 2
}
