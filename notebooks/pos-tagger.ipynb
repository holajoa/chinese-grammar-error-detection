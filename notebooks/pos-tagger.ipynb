{
 "cells": [
  {
   "cell_type": "code",
   "execution_count": 1,
   "metadata": {},
   "outputs": [],
   "source": [
    "import sys\n",
    "sys.path.append('..')\n",
    "\n",
    "import torch\n",
    "import pandas as pd\n",
    "import numpy as np\n",
    "from torch import nn \n",
    "from torch.utils.data import DataLoader\n",
    "from transformers import AutoTokenizer, AutoModelForTokenClassification\n",
    "from datasets import Dataset\n",
    "from torchcrf import CRF\n",
    "from tqdm.notebook import tqdm_notebook\n",
    "import logging\n",
    "\n",
    "from utils import *\n",
    "from dataset import *\n",
    "from preprocess import *\n",
    "from wrapper import *\n",
    "from models import *\n",
    "from pipeline import POSTaggingPipeline, map_to_df\n",
    "\n",
    "torch.cuda.is_available()\n",
    "# device = torch.device('cpu')\n",
    "device = torch.device('cuda:0')"
   ]
  },
  {
   "cell_type": "code",
   "execution_count": 2,
   "metadata": {},
   "outputs": [],
   "source": [
    "df = pd.read_csv('../data/data-org/train.csv', sep='\\t').set_index('id')\n",
    "corpus = df[df.label == 0].drop(columns=['label'])"
   ]
  },
  {
   "cell_type": "code",
   "execution_count": 3,
   "metadata": {},
   "outputs": [
    {
     "name": "stderr",
     "output_type": "stream",
     "text": [
      "d:\\Develop\\chinese-grammar-error-detection\\notebooks\\..\\dataset.py:122: UserWarning: To copy construct from a tensor, it is recommended to use sourceTensor.clone().detach() or sourceTensor.clone().detach().requires_grad_(True), rather than torch.tensor(sourceTensor).\n",
      "  indexed_value = torch.tensor(value[index]).squeeze()\n",
      "100%|██████████| 718/718 [01:18<00:00,  9.15it/s]\n"
     ]
    }
   ],
   "source": [
    "model_name = \"KoichiYasuoka/chinese-bert-wwm-ext-upos\"\n",
    "\n",
    "tagger = POSTaggingPipeline(model_name=model_name)\n",
    "ds = tagger(texts=corpus, device=device, return_tags=False)"
   ]
  },
  {
   "cell_type": "code",
   "execution_count": 4,
   "metadata": {},
   "outputs": [],
   "source": [
    "ds.test = False\n",
    "ds.train_val_split = 0.8\n",
    "ds.construct_dataset()"
   ]
  },
  {
   "cell_type": "code",
   "execution_count": 5,
   "metadata": {},
   "outputs": [],
   "source": [
    "id2label = tagger.model.config.id2label\n",
    "num_tags = len(id2label)\n",
    "\n",
    "crf = CRF(num_tags=num_tags, batch_first=True)\n",
    "if 'cuda' in device.type:\n",
    "    crf.cuda()"
   ]
  },
  {
   "cell_type": "code",
   "execution_count": 6,
   "metadata": {},
   "outputs": [],
   "source": [
    "seq_len = ds.maxlength\n",
    "batch_size = 32\n",
    "tagging_ds = ds.dataset['train'].with_format('pytorch', columns=['emissions', 'attention_mask']).rename_columns({'attention_mask':'mask'})"
   ]
  },
  {
   "cell_type": "code",
   "execution_count": 7,
   "metadata": {},
   "outputs": [
    {
     "data": {
      "application/vnd.jupyter.widget-view+json": {
       "model_id": "e2df09372c8946a98c0e6c9fb69723ca",
       "version_major": 2,
       "version_minor": 0
      },
      "text/plain": [
       "  0%|          | 0/294 [00:00<?, ?it/s]"
      ]
     },
     "metadata": {},
     "output_type": "display_data"
    },
    {
     "name": "stdout",
     "output_type": "stream",
     "text": [
      "Epoch 1/3, batch 5 - loss=110.5920\n",
      "Epoch 1/3, batch 10 - loss=113.0825\n",
      "Epoch 1/3, batch 15 - loss=99.4346\n"
     ]
    }
   ],
   "source": [
    "dataloader = DataLoader(\n",
    "    tagging_ds, \n",
    "    batch_size=batch_size, \n",
    "    drop_last=True, \n",
    ")\n",
    "\n",
    "learning_rate=1e-5\n",
    "optimiser = torch.optim.AdamW(crf.parameters(), lr=learning_rate)\n",
    "scheduler = torch.optim.lr_scheduler.ExponentialLR(optimiser, gamma=0.7)\n",
    "\n",
    "loss_history = []\n",
    "\n",
    "nn.init.uniform_(crf.start_transitions, 0, 1)\n",
    "nn.init.uniform_(crf.end_transitions, 0, 1)\n",
    "nn.init.uniform_(crf.transitions, 0, 1)\n",
    "\n",
    "crf.train()\n",
    "for epoch in range(3):\n",
    "    for i, batch in enumerate(tqdm_notebook(dataloader)):\n",
    "        inputs = {}\n",
    "        inputs['mask'] = batch['mask'].bool().to(device=device)\n",
    "        inputs['emissions'] = torch.concat([torch.concat([x]).unsqueeze(1) for x in batch['emissions']], dim=1).to(device=device)\n",
    "        inputs['tags'] = inputs['emissions'].argmax(-1).to(device=device)\n",
    "        loss = -crf(**inputs)\n",
    "        loss_history.append(loss.cpu().detach().unsqueeze(0))\n",
    "        if (i+1) % 5 == 0:\n",
    "            print(f'Epoch {epoch+1}/3, batch {i+1} - loss={loss_history[-1][0]:.4f}')\n",
    "\n",
    "        crf.zero_grad()\n",
    "        loss.backward()\n",
    "        optimiser.step()\n",
    "        if i % 100 == 0:\n",
    "            scheduler.step()\n",
    "    "
   ]
  },
  {
   "cell_type": "code",
   "execution_count": 1,
   "metadata": {},
   "outputs": [
    {
     "ename": "NameError",
     "evalue": "name 'torch' is not defined",
     "output_type": "error",
     "traceback": [
      "\u001b[1;31m---------------------------------------------------------------------------\u001b[0m",
      "\u001b[1;31mNameError\u001b[0m                                 Traceback (most recent call last)",
      "\u001b[1;32md:\\Develop\\chinese-grammar-error-detection\\notebooks\\pos-tagger.ipynb Cell 8\u001b[0m in \u001b[0;36m<cell line: 3>\u001b[1;34m()\u001b[0m\n\u001b[0;32m      <a href='vscode-notebook-cell:/d%3A/Develop/chinese-grammar-error-detection/notebooks/pos-tagger.ipynb#X22sZmlsZQ%3D%3D?line=0'>1</a>\u001b[0m \u001b[39mimport\u001b[39;00m \u001b[39mmatplotlib\u001b[39;00m\u001b[39m.\u001b[39;00m\u001b[39mpyplot\u001b[39;00m \u001b[39mas\u001b[39;00m \u001b[39mplt\u001b[39;00m\n\u001b[1;32m----> <a href='vscode-notebook-cell:/d%3A/Develop/chinese-grammar-error-detection/notebooks/pos-tagger.ipynb#X22sZmlsZQ%3D%3D?line=2'>3</a>\u001b[0m plt\u001b[39m.\u001b[39mplot(torch\u001b[39m.\u001b[39mconcat([loss\u001b[39m.\u001b[39mcpu()\u001b[39m.\u001b[39mdetach()\u001b[39m.\u001b[39munsqueeze(\u001b[39m0\u001b[39m) \u001b[39mfor\u001b[39;00m loss \u001b[39min\u001b[39;00m loss_history]))\n",
      "\u001b[1;31mNameError\u001b[0m: name 'torch' is not defined"
     ]
    }
   ],
   "source": [
    "import matplotlib.pyplot as plt\n",
    "\n",
    "plt.plot(torch.concat([loss.cpu().detach().unsqueeze(0) for loss in loss_history]))"
   ]
  }
 ],
 "metadata": {
  "kernelspec": {
   "display_name": "Python 3.9.12 ('general-torch')",
   "language": "python",
   "name": "python3"
  },
  "language_info": {
   "codemirror_mode": {
    "name": "ipython",
    "version": 3
   },
   "file_extension": ".py",
   "mimetype": "text/x-python",
   "name": "python",
   "nbconvert_exporter": "python",
   "pygments_lexer": "ipython3",
   "version": "3.9.12"
  },
  "orig_nbformat": 4,
  "vscode": {
   "interpreter": {
    "hash": "664321c82ff6de4bb3d6cb89c025cd05a28d5519bb13940eaa668e3035d94110"
   }
  }
 },
 "nbformat": 4,
 "nbformat_minor": 2
}
