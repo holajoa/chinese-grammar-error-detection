{
 "cells": [
  {
   "cell_type": "code",
   "execution_count": 1,
   "metadata": {},
   "outputs": [],
   "source": [
    "import esupar"
   ]
  },
  {
   "cell_type": "code",
   "execution_count": 2,
   "metadata": {},
   "outputs": [
    {
     "data": {
      "application/vnd.jupyter.widget-view+json": {
       "model_id": "988a142a31e747a9b5da319a607fa579",
       "version_major": 2,
       "version_minor": 0
      },
      "text/plain": [
       "Downloading supar.model:   0%|          | 0.00/441M [00:00<?, ?B/s]"
      ]
     },
     "metadata": {},
     "output_type": "display_data"
    },
    {
     "name": "stderr",
     "output_type": "stream",
     "text": [
      "Some weights of the model checkpoint at KoichiYasuoka/chinese-bert-wwm-ext-upos were not used when initializing BertModel: ['classifier.bias', 'classifier.weight']\n",
      "- This IS expected if you are initializing BertModel from the checkpoint of a model trained on another task or with another architecture (e.g. initializing a BertForSequenceClassification model from a BertForPreTraining model).\n",
      "- This IS NOT expected if you are initializing BertModel from the checkpoint of a model that you expect to be exactly identical (initializing a BertForSequenceClassification model from a BertForSequenceClassification model).\n",
      "Some weights of BertModel were not initialized from the model checkpoint at KoichiYasuoka/chinese-bert-wwm-ext-upos and are newly initialized: ['bert.pooler.dense.bias', 'bert.pooler.dense.weight']\n",
      "You should probably TRAIN this model on a down-stream task to be able to use it for predictions and inference.\n"
     ]
    }
   ],
   "source": [
    "nlp = esupar.load(\"zh\")\n"
   ]
  },
  {
   "cell_type": "code",
   "execution_count": 3,
   "metadata": {},
   "outputs": [
    {
     "name": "stdout",
     "output_type": "stream",
     "text": [
      "2022-09-05 11:07:11 INFO Loading the data\n"
     ]
    },
    {
     "name": "stderr",
     "output_type": "stream",
     "text": [
      "                                            \r"
     ]
    },
    {
     "name": "stdout",
     "output_type": "stream",
     "text": [
      "2022-09-05 11:07:11 INFO \n",
      "Dataset(n_sentences=1, n_batches=1, n_buckets=1)\n",
      "2022-09-05 11:07:11 INFO Making predictions on the dataset\n"
     ]
    },
    {
     "name": "stderr",
     "output_type": "stream",
     "text": [
      "                                                   \r"
     ]
    },
    {
     "name": "stdout",
     "output_type": "stream",
     "text": [
      "2022-09-05 11:07:15 INFO 0:00:04.460993s elapsed, 0.22 Sents/s\n"
     ]
    },
    {
     "data": {
      "text/plain": [
       "1\t一\t_\tNUM\t_\t_\t2\tadvmod\t_\tSpaceAfter=No\n",
       "2\t走进\t_\tVERB\t_\t_\t15\tadvcl\t_\tSpaceAfter=No\n",
       "3\t校园\t_\tNOUN\t_\t_\t2\tobj\t_\tSpaceAfter=No\n",
       "4\t，\t_\tPUNCT\t_\t_\t15\tpunct\t_\tSpaceAfter=No\n",
       "5\t我\t_\tPRON\t_\t_\t15\tnsubj\t_\tSpaceAfter=No\n",
       "6\t就\t_\tADV\t_\t_\t7\tmark\t_\tSpaceAfter=No\n",
       "7\t看见\t_\tVERB\t_\t_\t15\tadvcl\t_\tSpaceAfter=No\n",
       "8\t了\t_\tAUX\t_\t_\t7\taux\t_\tSpaceAfter=No\n",
       "9\t一\t_\tNUM\t_\t_\t10\tnummod\t_\tSpaceAfter=No\n",
       "10\t张张\t_\tNOUN\t_\t_\t13\tclf\t_\tSpaceAfter=No\n",
       "11\t可爱\t_\tADJ\t_\t_\t13\tamod\t_\tSpaceAfter=No\n",
       "12\t的\t_\tPART\t_\t_\t11\tmark:rel\t_\tSpaceAfter=No\n",
       "13\t笑脸\t_\tNOUN\t_\t_\t7\tobj\t_\tSpaceAfter=No\n",
       "14\t，\t_\tPUNCT\t_\t_\t15\tpunct\t_\tSpaceAfter=No\n",
       "15\t听见\t_\tVERB\t_\t_\t0\troot\t_\tSpaceAfter=No\n",
       "16\t了\t_\tAUX\t_\t_\t15\taux\t_\tSpaceAfter=No\n",
       "17\t一\t_\tNUM\t_\t_\t18\tnummod\t_\tSpaceAfter=No\n",
       "18\t阵阵\t_\tNOUN\t_\t_\t21\tclf\t_\tSpaceAfter=No\n",
       "19\t动听\t_\tADJ\t_\t_\t21\tamod\t_\tSpaceAfter=No\n",
       "20\t的\t_\tPART\t_\t_\t19\tmark:rel\t_\tSpaceAfter=No\n",
       "21\t歌声\t_\tNOUN\t_\t_\t15\tobj\t_\tSpaceAfter=No\n",
       "22\t。\t_\tPUNCT\t_\t_\t15\tpunct\t_\tSpaceAfter=No"
      ]
     },
     "execution_count": 3,
     "metadata": {},
     "output_type": "execute_result"
    }
   ],
   "source": [
    "text = '一走进校园，我就看见了一张张可爱的笑脸，听见了一阵阵动听的歌声。'\n",
    "nlp(text)"
   ]
  },
  {
   "cell_type": "code",
   "execution_count": 6,
   "metadata": {},
   "outputs": [
    {
     "name": "stdout",
     "output_type": "stream",
     "text": [
      "2022-09-05 11:09:46 INFO Loading the data\n"
     ]
    },
    {
     "name": "stderr",
     "output_type": "stream",
     "text": [
      "                                            \r"
     ]
    },
    {
     "name": "stdout",
     "output_type": "stream",
     "text": [
      "2022-09-05 11:09:46 INFO \n",
      "Dataset(n_sentences=1, n_batches=1, n_buckets=1)\n",
      "2022-09-05 11:09:46 INFO Making predictions on the dataset\n"
     ]
    },
    {
     "name": "stderr",
     "output_type": "stream",
     "text": [
      "                                           \r"
     ]
    },
    {
     "name": "stdout",
     "output_type": "stream",
     "text": [
      "2022-09-05 11:09:46 INFO 0:00:00.067000s elapsed, 14.93 Sents/s\n",
      "一   NUM   <══╗                   advmod\n",
      "走进 VERB  ═╗═╝<══════════╗       advcl\n",
      "校园 NOUN  <╝             ║       obj\n",
      "，   PUNCT <══════════════║═══╗   punct\n",
      "我   PRON  <════════════╗ ║   ║   nsubj\n",
      "就   ADV   <════════╗   ║ ║   ║   mark\n",
      "看见 VERB  ═╗═════╗═╝<╗ ║ ║   ║   advcl\n",
      "了   AUX   <╝     ║   ║ ║ ║   ║   aux\n",
      "一   NUM   <╗     ║   ║ ║ ║   ║   nummod\n",
      "张张 NOUN  ═╝<══╗ ║   ║ ║ ║   ║   clf\n",
      "可爱 ADJ   ═╗<╗ ║ ║   ║ ║ ║   ║   amod\n",
      "的   PART  <╝ ║ ║ ║   ║ ║ ║   ║   mark:rel\n",
      "笑脸 NOUN  ═══╝═╝<╝   ║ ║ ║   ║   obj\n",
      "，   PUNCT            ║ ║ ║<╗ ║   punct\n",
      "听见 VERB  ═╗═════╗═══╝═╝═╝═╝═╝═╗ root\n",
      "了   AUX   <╝     ║             ║ aux\n",
      "一   NUM   <╗     ║             ║ nummod\n",
      "阵阵 NOUN  ═╝<══╗ ║             ║ clf\n",
      "动听 ADJ   ═╗<╗ ║ ║             ║ amod\n",
      "的   PART  <╝ ║ ║ ║             ║ mark:rel\n",
      "歌声 NOUN  ═══╝═╝<╝             ║ obj\n",
      "。   PUNCT <════════════════════╝ punct\n"
     ]
    }
   ],
   "source": [
    "import deplacy\n",
    "deplacy.render(nlp(text))"
   ]
  },
  {
   "cell_type": "code",
   "execution_count": 7,
   "metadata": {},
   "outputs": [],
   "source": [
    "core_tags = [\n",
    "    'nsubj', \n",
    "    'obj',\n",
    "    'iobj',\n",
    "    'csubj',\n",
    "    'ccomp',\n",
    "    'xcomp', \n",
    "]"
   ]
  },
  {
   "cell_type": "code",
   "execution_count": 10,
   "metadata": {},
   "outputs": [
    {
     "name": "stdout",
     "output_type": "stream",
     "text": [
      "2022-09-05 12:07:01 INFO Loading the data\n"
     ]
    },
    {
     "name": "stderr",
     "output_type": "stream",
     "text": [
      "                                            \r"
     ]
    },
    {
     "name": "stdout",
     "output_type": "stream",
     "text": [
      "2022-09-05 12:07:01 INFO \n",
      "Dataset(n_sentences=1, n_batches=1, n_buckets=1)\n",
      "2022-09-05 12:07:01 INFO Making predictions on the dataset\n"
     ]
    },
    {
     "name": "stderr",
     "output_type": "stream",
     "text": [
      "                                                   \r"
     ]
    },
    {
     "name": "stdout",
     "output_type": "stream",
     "text": [
      "2022-09-05 12:07:01 INFO 0:00:00.147289s elapsed, 6.79 Sents/s\n",
      "1\t一\t_\tNUM\t_\t_\t2\tadvmod\t_\tSpaceAfter=No\n",
      "2\t走进\t_\tVERB\t_\t_\t15\tadvcl\t_\tSpaceAfter=No\n",
      "3\t校园\t_\tNOUN\t_\t_\t2\tobj\t_\tSpaceAfter=No\n",
      "4\t，\t_\tPUNCT\t_\t_\t15\tpunct\t_\tSpaceAfter=No\n",
      "5\t我\t_\tPRON\t_\t_\t15\tnsubj\t_\tSpaceAfter=No\n",
      "6\t就\t_\tADV\t_\t_\t7\tmark\t_\tSpaceAfter=No\n",
      "7\t看见\t_\tVERB\t_\t_\t15\tadvcl\t_\tSpaceAfter=No\n",
      "8\t了\t_\tAUX\t_\t_\t7\taux\t_\tSpaceAfter=No\n",
      "9\t一\t_\tNUM\t_\t_\t10\tnummod\t_\tSpaceAfter=No\n",
      "10\t张张\t_\tNOUN\t_\t_\t13\tclf\t_\tSpaceAfter=No\n",
      "11\t可爱\t_\tADJ\t_\t_\t13\tamod\t_\tSpaceAfter=No\n",
      "12\t的\t_\tPART\t_\t_\t11\tmark:rel\t_\tSpaceAfter=No\n",
      "13\t笑脸\t_\tNOUN\t_\t_\t7\tobj\t_\tSpaceAfter=No\n",
      "14\t，\t_\tPUNCT\t_\t_\t15\tpunct\t_\tSpaceAfter=No\n",
      "15\t听见\t_\tVERB\t_\t_\t0\troot\t_\tSpaceAfter=No\n",
      "16\t了\t_\tAUX\t_\t_\t15\taux\t_\tSpaceAfter=No\n",
      "17\t一\t_\tNUM\t_\t_\t18\tnummod\t_\tSpaceAfter=No\n",
      "18\t阵阵\t_\tNOUN\t_\t_\t21\tclf\t_\tSpaceAfter=No\n",
      "19\t动听\t_\tADJ\t_\t_\t21\tamod\t_\tSpaceAfter=No\n",
      "20\t的\t_\tPART\t_\t_\t19\tmark:rel\t_\tSpaceAfter=No\n",
      "21\t歌声\t_\tNOUN\t_\t_\t15\tobj\t_\tSpaceAfter=No\n",
      "22\t。\t_\tPUNCT\t_\t_\t15\tpunct\t_\tSpaceAfter=No\n",
      "\n"
     ]
    }
   ],
   "source": [
    "result = nlp(text)\n",
    "print(result)"
   ]
  },
  {
   "cell_type": "code",
   "execution_count": 22,
   "metadata": {},
   "outputs": [],
   "source": [
    "rels = result.values[result.maps['rels']]\n",
    "texts = result.values[result.maps['texts']]\n",
    "arcs = result.values[result.maps['arcs']]"
   ]
  },
  {
   "cell_type": "code",
   "execution_count": 24,
   "metadata": {},
   "outputs": [
    {
     "data": {
      "text/plain": [
       "(22, 22)"
      ]
     },
     "execution_count": 24,
     "metadata": {},
     "output_type": "execute_result"
    }
   ],
   "source": [
    "len(arcs), len(rels)"
   ]
  }
 ],
 "metadata": {
  "kernelspec": {
   "display_name": "Python 3.9.12 ('general-torch')",
   "language": "python",
   "name": "python3"
  },
  "language_info": {
   "codemirror_mode": {
    "name": "ipython",
    "version": 3
   },
   "file_extension": ".py",
   "mimetype": "text/x-python",
   "name": "python",
   "nbconvert_exporter": "python",
   "pygments_lexer": "ipython3",
   "version": "3.9.12"
  },
  "orig_nbformat": 4,
  "vscode": {
   "interpreter": {
    "hash": "664321c82ff6de4bb3d6cb89c025cd05a28d5519bb13940eaa668e3035d94110"
   }
  }
 },
 "nbformat": 4,
 "nbformat_minor": 2
}
