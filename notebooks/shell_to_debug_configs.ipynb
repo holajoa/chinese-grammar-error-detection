{
 "cells": [
  {
   "cell_type": "code",
   "execution_count": 1,
   "metadata": {},
   "outputs": [
    {
     "name": "stdout",
     "output_type": "stream",
     "text": [
      "\"python\", \"run-cleaned.py\", \n",
      "\"--model_name\", \"hfl/chinese-macbert-base\", \n",
      "\"--num_labels\", \"2\", \n",
      "\"--single_layer_cls_head\", \n",
      "\"--data_dir\", \"data/data-org\", \n",
      "\"--maxlength\", \"64\", \n",
      "\"--kfolds\", \"10\", \n",
      "\"--pred_output_dir\", \"submissions\", \n",
      "\"--output_model_dir\", \"finetuned_models/cleaned\", \n",
      "\"--n_fold_used\", \"5\", \n",
      "\"--num_ensemble_models\", \"5\", \n",
      "\"--num_epochs\", \"3\", \n",
      "\"--batch_size\", \"64\", \n",
      "\"--perform_testing\", \n",
      "\"--lr\", \"2e-5\", \n",
      "\"--alpha\", \"1\", \n",
      "\"--gamma\", \"1\"\n"
     ]
    }
   ],
   "source": [
    "with open('D:/Develop/chinese-grammar-error-detection/shell/train-cleaned.sh', 'r') as f:\n",
    "    lines = f.readlines()\n",
    "lines = [line.strip() for line in lines]\n",
    "lines = [line[:-2] if line.endswith(' \\\\') else line for line in lines]\n",
    "lines = [line.split(' ') for line in lines]\n",
    "lines = ', '.join([\"\\n\\\"\"+s+\"\\\"\" if s[:2] == '--' else \"\\\"\"+s+\"\\\"\" for l in lines for s in l])\n",
    "print(lines)"
   ]
  }
 ],
 "metadata": {
  "kernelspec": {
   "display_name": "Python 3.9.12 ('general-torch')",
   "language": "python",
   "name": "python3"
  },
  "language_info": {
   "codemirror_mode": {
    "name": "ipython",
    "version": 3
   },
   "file_extension": ".py",
   "mimetype": "text/x-python",
   "name": "python",
   "nbconvert_exporter": "python",
   "pygments_lexer": "ipython3",
   "version": "3.9.12"
  },
  "orig_nbformat": 4,
  "vscode": {
   "interpreter": {
    "hash": "664321c82ff6de4bb3d6cb89c025cd05a28d5519bb13940eaa668e3035d94110"
   }
  }
 },
 "nbformat": 4,
 "nbformat_minor": 2
}
