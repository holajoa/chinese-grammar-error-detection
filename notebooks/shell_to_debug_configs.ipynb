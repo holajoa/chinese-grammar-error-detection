{
 "cells": [
  {
   "cell_type": "code",
   "execution_count": 1,
   "metadata": {},
   "outputs": [
    {
     "name": "stdout",
     "output_type": "stream",
     "text": [
      "\"python\", \"run.py\", \n",
      "\"--model_name\", \"uer/roberta-base-word-chinese-cluecorpussmall\", \n",
      "\"--base_model_checkpoint\", \"finetuned_models/ww-baseline/checkpoint-3882\", \n",
      "\"--num_labels\", \"2\", \n",
      "\"--data_dir\", \"data/data-org\", \n",
      "\"--maxlength\", \"64\", \n",
      "\"--kfolds\", \"10\", \n",
      "\"--minor_major_ratio\", \"0.5\", \n",
      "\"--pred_output_dir\", \"submissions\", \n",
      "\"--output_model_dir\", \"finetuned_models/rww-mini\", \n",
      "\"--n_fold_used\", \"5\", \n",
      "\"--num_ensemble_models\", \"5\", \n",
      "\"--num_epochs\", \"10\", \n",
      "\"--batch_size\", \"32\", \n",
      "\"--lr\", \"2e-5\", \n",
      "\"--alpha\", \"1\", \n",
      "\"--gamma\", \"2\", \n",
      "\"--early_stopping_patience\", \"3\", \n",
      "\"--do_pred_on_dev_set\", \n",
      "\"--num_training_examples\", \"500\"\n"
     ]
    }
   ],
   "source": [
    "with open('D:/Develop/chinese-grammar-error-detection/shell/train.sh', 'r') as f:\n",
    "    lines = f.readlines()\n",
    "lines = [line.strip() for line in lines]\n",
    "lines = [line[:-2] if line.endswith(' \\\\') else line for line in lines]\n",
    "lines = [line.split(' ') for line in lines]\n",
    "lines = ', '.join([\"\\n\\\"\"+s+\"\\\"\" if s[:2] == '--' else \"\\\"\"+s+\"\\\"\" for l in lines for s in l])\n",
    "print(lines)"
   ]
  },
  {
   "cell_type": "markdown",
   "metadata": {},
   "source": []
  }
 ],
 "metadata": {
  "kernelspec": {
   "display_name": "Python 3.9.12 ('general-torch')",
   "language": "python",
   "name": "python3"
  },
  "language_info": {
   "codemirror_mode": {
    "name": "ipython",
    "version": 3
   },
   "file_extension": ".py",
   "mimetype": "text/x-python",
   "name": "python",
   "nbconvert_exporter": "python",
   "pygments_lexer": "ipython3",
   "version": "3.9.12"
  },
  "orig_nbformat": 4,
  "vscode": {
   "interpreter": {
    "hash": "664321c82ff6de4bb3d6cb89c025cd05a28d5519bb13940eaa668e3035d94110"
   }
  }
 },
 "nbformat": 4,
 "nbformat_minor": 2
}
