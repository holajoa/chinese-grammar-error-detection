{
 "cells": [
  {
   "cell_type": "code",
   "execution_count": 1,
   "metadata": {},
   "outputs": [],
   "source": [
    "import os\n",
    "import pandas as pd\n",
    "import numpy as np"
   ]
  },
  {
   "cell_type": "code",
   "execution_count": 15,
   "metadata": {},
   "outputs": [
    {
     "name": "stderr",
     "output_type": "stream",
     "text": [
      "C:\\Users\\holaj\\AppData\\Local\\Temp\\ipykernel_14256\\878289430.py:8: SettingWithCopyWarning: \n",
      "A value is trying to be set on a copy of a slice from a DataFrame\n",
      "\n",
      "See the caveats in the documentation: https://pandas.pydata.org/pandas-docs/stable/user_guide/indexing.html#returning-a-view-versus-a-copy\n",
      "  train_df.label[positive_idx] = 0\n",
      "C:\\Users\\holaj\\AppData\\Local\\Temp\\ipykernel_14256\\878289430.py:9: SettingWithCopyWarning: \n",
      "A value is trying to be set on a copy of a slice from a DataFrame\n",
      "\n",
      "See the caveats in the documentation: https://pandas.pydata.org/pandas-docs/stable/user_guide/indexing.html#returning-a-view-versus-a-copy\n",
      "  train_df.label[negative_idx] = 1\n"
     ]
    }
   ],
   "source": [
    "data_folder = 'data'\n",
    "data_reversed_folder = 'data-reverse'\n",
    "\n",
    "train_df = pd.read_csv(os.path.join('..', data_folder, 'train.csv'), sep='\\t')\n",
    "positive_idx = train_df.label == 1\n",
    "negative_idx = train_df.label == 0\n",
    "\n",
    "train_df.label[positive_idx] = 0\n",
    "train_df.label[negative_idx] = 1\n",
    "\n",
    "train_df.to_csv(os.path.join('..', data_reversed_folder, 'train.csv'), sep='\\t')"
   ]
  },
  {
   "cell_type": "code",
   "execution_count": 11,
   "metadata": {},
   "outputs": [],
   "source": [
    "output_folder = 'submissions-ner'\n",
    "\n",
    "output_reversed_df = pd.read_csv(os.path.join('..', output_folder, 'submission-reversed.csv'))\n",
    "positive_idx = output_reversed_df.label == 1\n",
    "negative_idx = output_reversed_df.label == 0\n",
    "\n",
    "output_reversed_df.label[positive_idx] = 0\n",
    "output_reversed_df.label[negative_idx] = 1\n",
    "\n",
    "output_reversed_df['id'] = np.arange(1, len(output_reversed_df)+1)\n",
    "output_reversed_df = output_reversed_df[['id', 'label']]\n",
    "output_reversed_df.to_csv(os.path.join('..', output_folder, 'submissions.csv'), sep='\\t', index=False)"
   ]
  }
 ],
 "metadata": {
  "kernelspec": {
   "display_name": "Python 3.9.12 ('general-torch')",
   "language": "python",
   "name": "python3"
  },
  "language_info": {
   "codemirror_mode": {
    "name": "ipython",
    "version": 3
   },
   "file_extension": ".py",
   "mimetype": "text/x-python",
   "name": "python",
   "nbconvert_exporter": "python",
   "pygments_lexer": "ipython3",
   "version": "3.9.12"
  },
  "orig_nbformat": 4,
  "vscode": {
   "interpreter": {
    "hash": "664321c82ff6de4bb3d6cb89c025cd05a28d5519bb13940eaa668e3035d94110"
   }
  }
 },
 "nbformat": 4,
 "nbformat_minor": 2
}
