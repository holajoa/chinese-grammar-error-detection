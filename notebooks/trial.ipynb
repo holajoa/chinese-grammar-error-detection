{
 "cells": [
  {
   "cell_type": "code",
   "execution_count": 29,
   "metadata": {},
   "outputs": [],
   "source": [
    "import nlpcda\n",
    "from nlpcda.tools.Basetool import Basetool\n",
    "import jieba"
   ]
  },
  {
   "cell_type": "code",
   "execution_count": 37,
   "metadata": {},
   "outputs": [],
   "source": [
    "class WordPositionExchange(Basetool):\n",
    "    '''随机词语交换。'''\n",
    "    \n",
    "    from nlpcda.tools.Basetool import Basetool\n",
    "    import jieba\n",
    "    \n",
    "    def __init__(self, create_num: int = 5, change_rate: float = 0.05, char_gram: int = 3, seed: int = 1):\n",
    "        super(WordPositionExchange, self).__init__('', create_num, change_rate, seed)\n",
    "        self.char_gram = char_gram\n",
    "\n",
    "    def __replace_one(self, one_sentence: str):\n",
    "        # 变为字 数组\n",
    "        # sen_chars = list(one_sentence)\n",
    "        sen_chars = list(jieba.cut(one_sentence, cut_all=False))\n",
    "        for i in range(len(sen_chars)):\n",
    "            if self.random.random() < self.change_rate:\n",
    "                # 非中文字不动！\n",
    "                if self.__is_chinese(sen_chars[i]) == False:\n",
    "                    continue\n",
    "                # 交换位置\n",
    "                change_i = self.__cpt_exchange_position(sen_chars, i)\n",
    "                # 进行交换\n",
    "                sen_chars[i], sen_chars[change_i] = sen_chars[change_i], sen_chars[i]\n",
    "        return ''.join(sen_chars)\n",
    "\n",
    "    def __cpt_exchange_position(self, sen_chars: list, position_i):\n",
    "        # 计算出交换位置\n",
    "        i = position_i\n",
    "        j = position_i\n",
    "        # 从position_i左边，找到第一个不是中文的位置，or 全是中文则不能超过char_gram范围\n",
    "        while i > 0 and self.__is_chinese(sen_chars[i]) and abs(i - position_i) < self.char_gram:\n",
    "            i -= 1\n",
    "        # 从position_i右边，找到第一个不是中文的位置，or 全是中文则不能超过char_gram范围\n",
    "        while j < len(sen_chars) - 1 and self.__is_chinese(sen_chars[j]) and abs(j - position_i) < self.char_gram:\n",
    "            j += 1\n",
    "        # 不是中文导致的推出，需要撤回位置\n",
    "        if not self.__is_chinese(sen_chars[i]):\n",
    "            if i < position_i:\n",
    "                i += 1\n",
    "        if not self.__is_chinese(sen_chars[j]):\n",
    "            if j > position_i:\n",
    "                j -= 1\n",
    "        return self.random.randint(i, j)\n",
    "\n",
    "    def __is_chinese(self, a_chr):\n",
    "        return u'\\u4e00' <= a_chr <= u'\\u9fff'\n",
    "\n",
    "    def replace(self, replace_str: str):\n",
    "        replace_str = replace_str.replace('\\n', '').strip()\n",
    "        sentences = [replace_str]\n",
    "        t = 0\n",
    "\n",
    "        while len(sentences) < self.create_num:\n",
    "            t += 1\n",
    "            a_sentence = self.__replace_one(replace_str)\n",
    "\n",
    "            if a_sentence not in sentences:\n",
    "                sentences.append(a_sentence)\n",
    "            if t > self.create_num * self.loop_t / self.change_rate:\n",
    "                break\n",
    "        return sentences"
   ]
  },
  {
   "cell_type": "code",
   "execution_count": 42,
   "metadata": {},
   "outputs": [
    {
     "data": {
      "text/plain": [
       "['能否解决腐败问题，能否控制人口增长，能否消除两岸隔阂，都是实现中华民族伟大复兴的重要保证。江苏卫视《一站到底》节目首次引入的人工智能答题机器人“汪仔”，是由搜狐历时9个月，投资约4000多万元打造而成的。',\n",
       " '能否解决腐败问题，能否控制人口增长，隔阂消除两岸能否，都是实现中华民族保证的复兴重要伟大。江苏卫视《一站到底》节目首次引入的人工智能答题机器人“汪仔”，是由搜狐历时9个月，投资约4000多万元打造而成的。',\n",
       " '能否解决腐败问题，能否控制人口增长，能否消除两岸隔阂，都是实现复兴伟大中华民族的重要保证。江苏卫视《一站到底》答题首次引入的人工智能节目机器人“汪仔”，是由搜狐历时9个月，投资约4000多万元打造而成的。',\n",
       " '能否解决腐败问题，能否控制人口增长，能否消除两岸隔阂，都是实现中华民族伟大复兴的重要保证。江苏卫视《到底一站》节目首次引入的人工智能答题机器人“汪仔”，历时由搜狐是9个月，投资约4000多万元打造而成的。',\n",
       " '能否解决腐败问题，能否控制人口增长，能否消除两岸隔阂，都是实现中华民族伟大复兴的重要保证。江苏卫视《一站到底》节目的引入首次人工智能答题机器人“汪仔”，是由搜狐历时9个月，约投资4000多万元打造而成的。']"
      ]
     },
     "execution_count": 42,
     "metadata": {},
     "output_type": "execute_result"
    }
   ],
   "source": [
    "exc = WordPositionExchange(char_gram=5)\n",
    "\n",
    "x = '能否解决腐败问题，能否控制人口增长，能否消除两岸隔阂，都是实现中华民族伟大复兴的重要保证。\\n江苏卫视《一站到底》节目首次引入的人工智能答题机器人“汪仔”，是由搜狐历时9个月，投资约4000多万元打造而成的。'\n",
    "exc.replace(x)"
   ]
  },
  {
   "cell_type": "code",
   "execution_count": null,
   "metadata": {},
   "outputs": [],
   "source": []
  }
 ],
 "metadata": {
  "kernelspec": {
   "display_name": "Python 3.9.12 ('general-torch')",
   "language": "python",
   "name": "python3"
  },
  "language_info": {
   "codemirror_mode": {
    "name": "ipython",
    "version": 3
   },
   "file_extension": ".py",
   "mimetype": "text/x-python",
   "name": "python",
   "nbconvert_exporter": "python",
   "pygments_lexer": "ipython3",
   "version": "3.9.12"
  },
  "orig_nbformat": 4,
  "vscode": {
   "interpreter": {
    "hash": "664321c82ff6de4bb3d6cb89c025cd05a28d5519bb13940eaa668e3035d94110"
   }
  }
 },
 "nbformat": 4,
 "nbformat_minor": 2
}
