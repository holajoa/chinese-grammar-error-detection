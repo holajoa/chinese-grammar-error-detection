{
 "cells": [
  {
   "cell_type": "markdown",
   "metadata": {},
   "source": [
    "## DA"
   ]
  },
  {
   "cell_type": "code",
   "execution_count": 29,
   "metadata": {},
   "outputs": [],
   "source": [
    "import nlpcda\n",
    "from nlpcda.tools.Basetool import Basetool\n",
    "import jieba"
   ]
  },
  {
   "cell_type": "code",
   "execution_count": 37,
   "metadata": {},
   "outputs": [],
   "source": [
    "class WordPositionExchange(Basetool):\n",
    "    '''随机词语交换。'''\n",
    "    \n",
    "    from nlpcda.tools.Basetool import Basetool\n",
    "    import jieba\n",
    "    \n",
    "    def __init__(self, create_num: int = 5, change_rate: float = 0.05, char_gram: int = 3, seed: int = 1):\n",
    "        super(WordPositionExchange, self).__init__('', create_num, change_rate, seed)\n",
    "        self.char_gram = char_gram\n",
    "\n",
    "    def __replace_one(self, one_sentence: str):\n",
    "        # 变为字 数组\n",
    "        # sen_chars = list(one_sentence)\n",
    "        sen_chars = list(jieba.cut(one_sentence, cut_all=False))\n",
    "        for i in range(len(sen_chars)):\n",
    "            if self.random.random() < self.change_rate:\n",
    "                # 非中文字不动！\n",
    "                if self.__is_chinese(sen_chars[i]) == False:\n",
    "                    continue\n",
    "                # 交换位置\n",
    "                change_i = self.__cpt_exchange_position(sen_chars, i)\n",
    "                # 进行交换\n",
    "                sen_chars[i], sen_chars[change_i] = sen_chars[change_i], sen_chars[i]\n",
    "        return ''.join(sen_chars)\n",
    "\n",
    "    def __cpt_exchange_position(self, sen_chars: list, position_i):\n",
    "        # 计算出交换位置\n",
    "        i = position_i\n",
    "        j = position_i\n",
    "        # 从position_i左边，找到第一个不是中文的位置，or 全是中文则不能超过char_gram范围\n",
    "        while i > 0 and self.__is_chinese(sen_chars[i]) and abs(i - position_i) < self.char_gram:\n",
    "            i -= 1\n",
    "        # 从position_i右边，找到第一个不是中文的位置，or 全是中文则不能超过char_gram范围\n",
    "        while j < len(sen_chars) - 1 and self.__is_chinese(sen_chars[j]) and abs(j - position_i) < self.char_gram:\n",
    "            j += 1\n",
    "        # 不是中文导致的推出，需要撤回位置\n",
    "        if not self.__is_chinese(sen_chars[i]):\n",
    "            if i < position_i:\n",
    "                i += 1\n",
    "        if not self.__is_chinese(sen_chars[j]):\n",
    "            if j > position_i:\n",
    "                j -= 1\n",
    "        return self.random.randint(i, j)\n",
    "\n",
    "    def __is_chinese(self, a_chr):\n",
    "        return u'\\u4e00' <= a_chr <= u'\\u9fff'\n",
    "\n",
    "    def replace(self, replace_str: str):\n",
    "        replace_str = replace_str.replace('\\n', '').strip()\n",
    "        sentences = [replace_str]\n",
    "        t = 0\n",
    "\n",
    "        while len(sentences) < self.create_num:\n",
    "            t += 1\n",
    "            a_sentence = self.__replace_one(replace_str)\n",
    "\n",
    "            if a_sentence not in sentences:\n",
    "                sentences.append(a_sentence)\n",
    "            if t > self.create_num * self.loop_t / self.change_rate:\n",
    "                break\n",
    "        return sentences"
   ]
  },
  {
   "cell_type": "code",
   "execution_count": 42,
   "metadata": {},
   "outputs": [
    {
     "data": {
      "text/plain": [
       "['能否解决腐败问题，能否控制人口增长，能否消除两岸隔阂，都是实现中华民族伟大复兴的重要保证。江苏卫视《一站到底》节目首次引入的人工智能答题机器人“汪仔”，是由搜狐历时9个月，投资约4000多万元打造而成的。',\n",
       " '能否解决腐败问题，能否控制人口增长，隔阂消除两岸能否，都是实现中华民族保证的复兴重要伟大。江苏卫视《一站到底》节目首次引入的人工智能答题机器人“汪仔”，是由搜狐历时9个月，投资约4000多万元打造而成的。',\n",
       " '能否解决腐败问题，能否控制人口增长，能否消除两岸隔阂，都是实现复兴伟大中华民族的重要保证。江苏卫视《一站到底》答题首次引入的人工智能节目机器人“汪仔”，是由搜狐历时9个月，投资约4000多万元打造而成的。',\n",
       " '能否解决腐败问题，能否控制人口增长，能否消除两岸隔阂，都是实现中华民族伟大复兴的重要保证。江苏卫视《到底一站》节目首次引入的人工智能答题机器人“汪仔”，历时由搜狐是9个月，投资约4000多万元打造而成的。',\n",
       " '能否解决腐败问题，能否控制人口增长，能否消除两岸隔阂，都是实现中华民族伟大复兴的重要保证。江苏卫视《一站到底》节目的引入首次人工智能答题机器人“汪仔”，是由搜狐历时9个月，约投资4000多万元打造而成的。']"
      ]
     },
     "execution_count": 42,
     "metadata": {},
     "output_type": "execute_result"
    }
   ],
   "source": [
    "exc = WordPositionExchange(char_gram=5)\n",
    "\n",
    "x = '能否解决腐败问题，能否控制人口增长，能否消除两岸隔阂，都是实现中华民族伟大复兴的重要保证。\\n江苏卫视《一站到底》节目首次引入的人工智能答题机器人“汪仔”，是由搜狐历时9个月，投资约4000多万元打造而成的。'\n",
    "exc.replace(x)"
   ]
  },
  {
   "cell_type": "markdown",
   "metadata": {},
   "source": [
    "## Easy Ensemble"
   ]
  },
  {
   "cell_type": "code",
   "execution_count": 67,
   "metadata": {},
   "outputs": [],
   "source": [
    "import numpy as np\n",
    "import pandas as pd\n",
    "\n",
    "data = pd.read_csv('../data/data-org/train.csv', sep='\\t').set_index('id')\n",
    "minority_idx = np.argwhere((data.label == 0).values).flatten()\n",
    "\n",
    "L = len(data)\n",
    "k = 10"
   ]
  },
  {
   "cell_type": "code",
   "execution_count": 80,
   "metadata": {},
   "outputs": [],
   "source": [
    "def _easy_ensenble_generate_kfolds(L, k, minority_idx, fold_size=None):\n",
    "    s_fold = fold_size if fold_size else L // k \n",
    "    majority_idx = np.array(list(set(range(L)) - set(minority_idx)))\n",
    "    minor_samples = np.random.choice(minority_idx, size=(k, s_fold//2), replace=True)\n",
    "    major_samples = np.random.choice(majority_idx, size=(k, s_fold//2), replace=False)\n",
    "    folds = np.concatenate((minor_samples, major_samples), axis=1)\n",
    "    folds = folds[:, np.random.permutation(range(s_fold))]\n",
    "    print(f'Using easy ensemble - each fold has {minor_samples.shape[1]} negatives in the training set, paired with {major_samples.shape[1]} positives')\n",
    "    return folds"
   ]
  },
  {
   "cell_type": "code",
   "execution_count": 81,
   "metadata": {},
   "outputs": [
    {
     "name": "stdout",
     "output_type": "stream",
     "text": [
      "Using easy ensemble - each fold has 2262 negatives in the training set, paired with 2262 positives\n"
     ]
    }
   ],
   "source": [
    "folds = _easy_ensenble_generate_kfolds(L, k, minority_idx)"
   ]
  },
  {
   "cell_type": "code",
   "execution_count": 82,
   "metadata": {},
   "outputs": [
    {
     "data": {
      "text/html": [
       "<div>\n",
       "<style scoped>\n",
       "    .dataframe tbody tr th:only-of-type {\n",
       "        vertical-align: middle;\n",
       "    }\n",
       "\n",
       "    .dataframe tbody tr th {\n",
       "        vertical-align: top;\n",
       "    }\n",
       "\n",
       "    .dataframe thead th {\n",
       "        text-align: right;\n",
       "    }\n",
       "</style>\n",
       "<table border=\"1\" class=\"dataframe\">\n",
       "  <thead>\n",
       "    <tr style=\"text-align: right;\">\n",
       "      <th></th>\n",
       "      <th>label</th>\n",
       "      <th>text</th>\n",
       "    </tr>\n",
       "    <tr>\n",
       "      <th>id</th>\n",
       "      <th></th>\n",
       "      <th></th>\n",
       "    </tr>\n",
       "  </thead>\n",
       "  <tbody>\n",
       "    <tr>\n",
       "      <th>1</th>\n",
       "      <td>1</td>\n",
       "      <td>通过大力发展社区教育，使我省全民终身学习的教育体系已深入人心。</td>\n",
       "    </tr>\n",
       "    <tr>\n",
       "      <th>2</th>\n",
       "      <td>1</td>\n",
       "      <td>再次投入巨资的英超劲旅曼城队能否在2010-2011年度的英超联赛中夺得英超冠军，曼联、切尔...</td>\n",
       "    </tr>\n",
       "    <tr>\n",
       "      <th>3</th>\n",
       "      <td>1</td>\n",
       "      <td>广西居民纸质图书的阅读率偏低，手机阅读将成为了广西居民极倾向的阅读方式。</td>\n",
       "    </tr>\n",
       "    <tr>\n",
       "      <th>4</th>\n",
       "      <td>1</td>\n",
       "      <td>文字书写时代即将结束，预示着人与字之间最亲密的一种关系已经终结。与此同时，屏幕文化造就了另一...</td>\n",
       "    </tr>\n",
       "    <tr>\n",
       "      <th>5</th>\n",
       "      <td>1</td>\n",
       "      <td>安徽合力公司2006年叉车销售强劲，销售收入涨幅很有可能将超过40%以上。公司预计2006年...</td>\n",
       "    </tr>\n",
       "    <tr>\n",
       "      <th>...</th>\n",
       "      <td>...</td>\n",
       "      <td>...</td>\n",
       "    </tr>\n",
       "    <tr>\n",
       "      <th>45244</th>\n",
       "      <td>0</td>\n",
       "      <td>进入5月以来，全国新增人感染H7N9禽流感病例呈明显下降趋势。</td>\n",
       "    </tr>\n",
       "    <tr>\n",
       "      <th>45245</th>\n",
       "      <td>1</td>\n",
       "      <td>建设中国新一代天气雷达监测网，能够明显改善对热带气旋或台风登陆位置及强度预报的准确性，尤其对...</td>\n",
       "    </tr>\n",
       "    <tr>\n",
       "      <th>45246</th>\n",
       "      <td>1</td>\n",
       "      <td>每当回忆起和他朝夕相处的一段生活，他那循循善诱的教导和那和蔼可亲的音容笑貌，又重新出现在我的面前。</td>\n",
       "    </tr>\n",
       "    <tr>\n",
       "      <th>45247</th>\n",
       "      <td>1</td>\n",
       "      <td>8月，延安市公开拍卖35辆超编超标公务车。在拍卖过程中，多辆年份较新、行驶里程较少的公务车竞...</td>\n",
       "    </tr>\n",
       "    <tr>\n",
       "      <th>45248</th>\n",
       "      <td>1</td>\n",
       "      <td>清华大学联合剑桥大学、麻省理工学院，成立低碳能源大学联盟未来交通研究中心，他们试图寻找解决北...</td>\n",
       "    </tr>\n",
       "  </tbody>\n",
       "</table>\n",
       "<p>45248 rows × 2 columns</p>\n",
       "</div>"
      ],
      "text/plain": [
       "       label                                               text\n",
       "id                                                             \n",
       "1          1                    通过大力发展社区教育，使我省全民终身学习的教育体系已深入人心。\n",
       "2          1  再次投入巨资的英超劲旅曼城队能否在2010-2011年度的英超联赛中夺得英超冠军，曼联、切尔...\n",
       "3          1               广西居民纸质图书的阅读率偏低，手机阅读将成为了广西居民极倾向的阅读方式。\n",
       "4          1  文字书写时代即将结束，预示着人与字之间最亲密的一种关系已经终结。与此同时，屏幕文化造就了另一...\n",
       "5          1  安徽合力公司2006年叉车销售强劲，销售收入涨幅很有可能将超过40%以上。公司预计2006年...\n",
       "...      ...                                                ...\n",
       "45244      0                    进入5月以来，全国新增人感染H7N9禽流感病例呈明显下降趋势。\n",
       "45245      1  建设中国新一代天气雷达监测网，能够明显改善对热带气旋或台风登陆位置及强度预报的准确性，尤其对...\n",
       "45246      1  每当回忆起和他朝夕相处的一段生活，他那循循善诱的教导和那和蔼可亲的音容笑貌，又重新出现在我的面前。\n",
       "45247      1  8月，延安市公开拍卖35辆超编超标公务车。在拍卖过程中，多辆年份较新、行驶里程较少的公务车竞...\n",
       "45248      1  清华大学联合剑桥大学、麻省理工学院，成立低碳能源大学联盟未来交通研究中心，他们试图寻找解决北...\n",
       "\n",
       "[45248 rows x 2 columns]"
      ]
     },
     "execution_count": 82,
     "metadata": {},
     "output_type": "execute_result"
    }
   ],
   "source": [
    "data"
   ]
  },
  {
   "cell_type": "code",
   "execution_count": 77,
   "metadata": {},
   "outputs": [
    {
     "data": {
      "text/plain": [
       "4320"
      ]
     },
     "execution_count": 77,
     "metadata": {},
     "output_type": "execute_result"
    }
   ],
   "source": [
    "fold0 = data.iloc[folds[0]].drop_duplicates()\n",
    "len(fold0)"
   ]
  },
  {
   "cell_type": "code",
   "execution_count": 79,
   "metadata": {},
   "outputs": [
    {
     "data": {
      "text/plain": [
       "0.47638888888888886"
      ]
     },
     "execution_count": 79,
     "metadata": {},
     "output_type": "execute_result"
    }
   ],
   "source": [
    "len(fold0[fold0.label==0]) / 4320"
   ]
  }
 ],
 "metadata": {
  "kernelspec": {
   "display_name": "Python 3.9.12 ('general-torch')",
   "language": "python",
   "name": "python3"
  },
  "language_info": {
   "codemirror_mode": {
    "name": "ipython",
    "version": 3
   },
   "file_extension": ".py",
   "mimetype": "text/x-python",
   "name": "python",
   "nbconvert_exporter": "python",
   "pygments_lexer": "ipython3",
   "version": "3.9.12"
  },
  "orig_nbformat": 4,
  "vscode": {
   "interpreter": {
    "hash": "664321c82ff6de4bb3d6cb89c025cd05a28d5519bb13940eaa668e3035d94110"
   }
  }
 },
 "nbformat": 4,
 "nbformat_minor": 2
}
