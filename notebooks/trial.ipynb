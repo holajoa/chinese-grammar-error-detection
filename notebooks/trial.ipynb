{
 "cells": [
  {
   "cell_type": "code",
   "execution_count": 1,
   "metadata": {},
   "outputs": [],
   "source": [
    "import torch\n",
    "import numpy as np"
   ]
  },
  {
   "cell_type": "code",
   "execution_count": 8,
   "metadata": {},
   "outputs": [
    {
     "data": {
      "text/plain": [
       "torch.Size([500, 128])"
      ]
     },
     "execution_count": 8,
     "metadata": {},
     "output_type": "execute_result"
    }
   ],
   "source": [
    "pred_labels = torch.from_numpy(np.random.choice([0, 1], size=(2, 500, 128)))\n",
    "n_models, n_samples, seq_len = pred_labels.size()\n",
    "pred_labels_flattened = pred_labels.view((n_models, n_samples*seq_len))\n",
    "agg_labels = []\n",
    "model_id = 0\n",
    "for single_examples_pred_labels in pred_labels_flattened.T:\n",
    "    labels, counts = torch.unique(single_examples_pred_labels, return_counts=True)\n",
    "    agg_labels.append(labels[torch.argmax(counts)])\n",
    "torch.tensor(agg_labels).view(n_samples, seq_len).shape"
   ]
  },
  {
   "cell_type": "code",
   "execution_count": 23,
   "metadata": {},
   "outputs": [
    {
     "data": {
      "text/plain": [
       "tensor([[[1, 0],\n",
       "         [1, 0],\n",
       "         [0, 1],\n",
       "         ...,\n",
       "         [0, 1],\n",
       "         [0, 1],\n",
       "         [1, 0]],\n",
       "\n",
       "        [[1, 0],\n",
       "         [0, 1],\n",
       "         [1, 0],\n",
       "         ...,\n",
       "         [0, 1],\n",
       "         [1, 0],\n",
       "         [0, 1]],\n",
       "\n",
       "        [[0, 1],\n",
       "         [1, 0],\n",
       "         [0, 1],\n",
       "         ...,\n",
       "         [1, 0],\n",
       "         [1, 0],\n",
       "         [0, 1]],\n",
       "\n",
       "        ...,\n",
       "\n",
       "        [[0, 1],\n",
       "         [1, 0],\n",
       "         [1, 0],\n",
       "         ...,\n",
       "         [1, 0],\n",
       "         [0, 1],\n",
       "         [1, 0]],\n",
       "\n",
       "        [[0, 1],\n",
       "         [0, 1],\n",
       "         [0, 1],\n",
       "         ...,\n",
       "         [0, 1],\n",
       "         [0, 1],\n",
       "         [1, 0]],\n",
       "\n",
       "        [[0, 1],\n",
       "         [1, 0],\n",
       "         [0, 1],\n",
       "         ...,\n",
       "         [0, 1],\n",
       "         [0, 1],\n",
       "         [1, 0]]], dtype=torch.int32)"
      ]
     },
     "execution_count": 23,
     "metadata": {},
     "output_type": "execute_result"
    }
   ],
   "source": [
    "pred_probs = torch.zeros(size=(16, 128, 2), dtype=pred_labels.dtype)\n",
    "\n",
    "a, b = torch.argwhere(pred_labels).T\n",
    "pred_probs[a, b, 1] = 1\n",
    "\n",
    "a, b = torch.argwhere(pred_labels == 0).T\n",
    "pred_probs[a, b, 0] = 1\n",
    "pred_probs"
   ]
  },
  {
   "cell_type": "code",
   "execution_count": 37,
   "metadata": {},
   "outputs": [
    {
     "name": "stderr",
     "output_type": "stream",
     "text": [
      "C:\\Users\\holaj\\AppData\\Local\\Temp\\ipykernel_29960\\1050868711.py:3: DeprecationWarning: elementwise comparison failed; this will raise an error in the future.\n",
      "  np.apply_along_axis(lambda x: x in np.array([0, 1]), axis=0, arr=np.unique(logits).flatten())\n"
     ]
    },
    {
     "data": {
      "text/plain": [
       "array(False)"
      ]
     },
     "execution_count": 37,
     "metadata": {},
     "output_type": "execute_result"
    }
   ],
   "source": [
    "logits = np.random.random(size=(16, 128))\n",
    "\n",
    "np.apply_along_axis(lambda x: x in np.array([0, 1]), axis=0, arr=np.unique(logits).flatten())"
   ]
  },
  {
   "cell_type": "code",
   "execution_count": 7,
   "metadata": {},
   "outputs": [
    {
     "ename": "NameError",
     "evalue": "name 'logits' is not defined",
     "output_type": "error",
     "traceback": [
      "\u001b[1;31m---------------------------------------------------------------------------\u001b[0m",
      "\u001b[1;31mNameError\u001b[0m                                 Traceback (most recent call last)",
      "\u001b[1;32md:\\Develop\\chinese-grammar-error-detection\\notebooks\\trial.ipynb Cell 5\u001b[0m in \u001b[0;36m<cell line: 2>\u001b[1;34m()\u001b[0m\n\u001b[0;32m      <a href='vscode-notebook-cell:/d%3A/Develop/chinese-grammar-error-detection/notebooks/trial.ipynb#W4sZmlsZQ%3D%3D?line=0'>1</a>\u001b[0m contain_bool \u001b[39m=\u001b[39m np\u001b[39m.\u001b[39mvectorize(\u001b[39mlambda\u001b[39;00m x: x \u001b[39min\u001b[39;00m np\u001b[39m.\u001b[39marray([\u001b[39m0\u001b[39m, \u001b[39m1\u001b[39m]))\n\u001b[1;32m----> <a href='vscode-notebook-cell:/d%3A/Develop/chinese-grammar-error-detection/notebooks/trial.ipynb#W4sZmlsZQ%3D%3D?line=1'>2</a>\u001b[0m contain_bool(np\u001b[39m.\u001b[39munique(logits)\u001b[39m.\u001b[39mflatten())\u001b[39m.\u001b[39mall()\n",
      "\u001b[1;31mNameError\u001b[0m: name 'logits' is not defined"
     ]
    }
   ],
   "source": [
    "contain_bool = np.vectorize(lambda x: x in np.array([0, 1]))\n",
    "contain_bool(np.unique(logits).flatten()).all()"
   ]
  }
 ],
 "metadata": {
  "kernelspec": {
   "display_name": "Python 3.9.12 ('general-torch')",
   "language": "python",
   "name": "python3"
  },
  "language_info": {
   "codemirror_mode": {
    "name": "ipython",
    "version": 3
   },
   "file_extension": ".py",
   "mimetype": "text/x-python",
   "name": "python",
   "nbconvert_exporter": "python",
   "pygments_lexer": "ipython3",
   "version": "3.9.12"
  },
  "orig_nbformat": 4,
  "vscode": {
   "interpreter": {
    "hash": "664321c82ff6de4bb3d6cb89c025cd05a28d5519bb13940eaa668e3035d94110"
   }
  }
 },
 "nbformat": 4,
 "nbformat_minor": 2
}
