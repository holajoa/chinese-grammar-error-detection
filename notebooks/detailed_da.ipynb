{
 "cells": [
  {
   "cell_type": "code",
   "execution_count": 1,
   "metadata": {},
   "outputs": [],
   "source": [
    "import sys\n",
    "sys.path.append('..')\n",
    "\n",
    "import pandas as pd\n",
    "import numpy as np\n",
    "from utils import *\n",
    "    \n",
    "import os\n",
    "\n",
    "from typing import List, Dict"
   ]
  },
  {
   "cell_type": "code",
   "execution_count": 2,
   "metadata": {},
   "outputs": [
    {
     "name": "stdout",
     "output_type": "stream",
     "text": [
      "Simbert不能正常使用，除非你安装：bert4keras、tensorflow ，为了安装快捷，没有默认安装.... No module named 'bert4keras'\n"
     ]
    }
   ],
   "source": [
    "from nlpcda.tools.Basetool import Basetool\n",
    "from nlpcda.config import similarword_path\n",
    "import nlpcda\n",
    "\n",
    "\n",
    "class AddSimilarWord(Basetool):\n",
    "    '''\n",
    "    句中随意添加近义词，生成【语义重复】类型病句。\n",
    "    '''\n",
    "\n",
    "    def __init__(self, base_file=similarword_path, create_num=5, change_rate=0.05, seed=1):\n",
    "        super(AddSimilarWord, self).__init__(base_file, create_num, change_rate, seed)\n",
    "\n",
    "\n",
    "    def load_paser_base_file(self):\n",
    "        combine_dict = {}\n",
    "        for line in open(self.base_file, \"r\", encoding='utf-8'):\n",
    "            seperate_word = line.strip().split(\" \")\n",
    "            # 仅保留真正近义词，过滤相关词和独立词\n",
    "            if not seperate_word[0].endswith(\"=\"):\n",
    "                continue\n",
    "            num = len(seperate_word)\n",
    "            for i in range(1, num):\n",
    "                wi = seperate_word[i]\n",
    "                # add to user dict\n",
    "                if len(wi) > 1: self.add_word(wi)\n",
    "                combine_dict[wi] = seperate_word[1:]\n",
    "        print('load :%s done' % (self.base_file))\n",
    "        return combine_dict\n",
    "\n",
    "    def replace(self, replace_str:str):\n",
    "        replace_str = replace_str.replace('\\n', '').strip()\n",
    "        seg_list = self.jieba.cut(replace_str, cut_all=False)\n",
    "        words = list(seg_list)\n",
    "        sentences = [replace_str]\n",
    "        t = 0\n",
    "        while len(sentences) < self.create_num:\n",
    "            t += 1\n",
    "            a_sentence = ''\n",
    "            for word in words:\n",
    "                a_sentence += self.s1(word)\n",
    "            if a_sentence not in sentences:\n",
    "                sentences.append(a_sentence)\n",
    "            if t > self.create_num * self.loop_t / self.change_rate:\n",
    "                break\n",
    "        return sentences\n",
    "\n",
    "    def s1(self, word:str):\n",
    "        # 替换所有在combine_dict中的\n",
    "        if len(word) == 1: return word\n",
    "        if word in self.base_file_mapobj and self.random.random() < self.change_rate:\n",
    "            wi = self.random.randint(0, len(self.base_file_mapobj[word]) - 1)\n",
    "            place = self.base_file_mapobj[word][wi]\n",
    "            if place == word:\n",
    "                return word\n",
    "            return word + place if self.random.random() < 0.5 else place + word\n",
    "        else:\n",
    "            return word"
   ]
  },
  {
   "cell_type": "code",
   "execution_count": 3,
   "metadata": {},
   "outputs": [
    {
     "name": "stderr",
     "output_type": "stream",
     "text": [
      "Building prefix dict from the default dictionary ...\n",
      "Loading model from cache C:\\Users\\holaj\\AppData\\Local\\Temp\\jieba.cache\n",
      "Loading model cost 0.719 seconds.\n",
      "Prefix dict has been built successfully.\n"
     ]
    },
    {
     "name": "stdout",
     "output_type": "stream",
     "text": [
      "load :d:\\Apps\\Anaconda3\\envs\\general-torch\\lib\\site-packages\\nlpcda\\data\\同义词.txt done\n"
     ]
    },
    {
     "data": {
      "text/plain": [
       "['努力学习文化知识能使人们的妄想在未来变成现实。',\n",
       " '努力学习文化知识能使人人的妄想在未来改为现实。',\n",
       " '努力学习文化知识能使人们的妄想在奔头儿变成现实。',\n",
       " '努力学习文化知识能使人们的痴想在未来变成现实。',\n",
       " '努力学习知知识能使人们的妄想在未来变成现实。']"
      ]
     },
     "execution_count": 3,
     "metadata": {},
     "output_type": "execute_result"
    }
   ],
   "source": [
    "sw = nlpcda.Similarword()\n",
    "sw.replace('努力学习文化知识能使人们的妄想在未来变成现实。')"
   ]
  },
  {
   "cell_type": "code",
   "execution_count": 12,
   "metadata": {},
   "outputs": [],
   "source": [
    "from base64 import encode\n",
    "from shortuuid import uuid\n",
    "\n",
    "\n",
    "logic_pairs = [\n",
    "    ['不仅', '尽管', '虽然', '因为', '无论', '只要'], \n",
    "    ['不但', '尽管', '虽然', '因为', '无论', '只有'], \n",
    "    ['而且', '还是', '所以', '却', '就', '因此', '才'], \n",
    "    ['而且', '仍然', '所以', '却', '就', '因此', '才'], \n",
    "    ['而且', '但是', '所以', '却', '就', '因此', '才'], \n",
    "    ['而且', '可是', '所以', '却', '就', '因此', '才'], \n",
    "]\n",
    "\n",
    "\n",
    "nlpcda_package_path = 'D:/Apps/Anaconda3/envs/general-torch/Lib/site-packages/nlpcda'\n",
    "file_path = os.path.join(nlpcda_package_path, 'data')\n",
    "file_name = 'logic_pairs.txt'\n",
    "logic_pairs_file = os.path.join(file_path, file_name)\n",
    "\n",
    "with open(logic_pairs_file, 'w', encoding='utf-8') as f:\n",
    "    for line in logic_pairs:\n",
    "        line = ' '.join(line)\n",
    "        line = uuid()[:8] + '= ' + line + '\\n'\n",
    "        f.write(line)"
   ]
  },
  {
   "cell_type": "code",
   "execution_count": 21,
   "metadata": {},
   "outputs": [
    {
     "name": "stdout",
     "output_type": "stream",
     "text": [
      "load :D:/Apps/Anaconda3/envs/general-torch/Lib/site-packages/nlpcda\\data\\logic_pairs.txt done\n"
     ]
    },
    {
     "data": {
      "text/plain": [
       "'尽管离开那个控制你人生的人，你就能重获新生。'"
      ]
     },
     "execution_count": 21,
     "metadata": {},
     "output_type": "execute_result"
    }
   ],
   "source": [
    "text = '只有离开那个控制你人生的人，你就能重获新生。'\n",
    "\n",
    "logic_pairs_swapper = nlpcda.Similarword(base_file=logic_pairs_file, change_rate=0.1)\n",
    "logic_pairs_swapper.replace(text)[-1]"
   ]
  },
  {
   "cell_type": "code",
   "execution_count": null,
   "metadata": {},
   "outputs": [],
   "source": []
  }
 ],
 "metadata": {
  "kernelspec": {
   "display_name": "Python 3.9.12 ('general-torch')",
   "language": "python",
   "name": "python3"
  },
  "language_info": {
   "codemirror_mode": {
    "name": "ipython",
    "version": 3
   },
   "file_extension": ".py",
   "mimetype": "text/x-python",
   "name": "python",
   "nbconvert_exporter": "python",
   "pygments_lexer": "ipython3",
   "version": "3.9.12"
  },
  "orig_nbformat": 4,
  "vscode": {
   "interpreter": {
    "hash": "664321c82ff6de4bb3d6cb89c025cd05a28d5519bb13940eaa668e3035d94110"
   }
  }
 },
 "nbformat": 4,
 "nbformat_minor": 2
}
